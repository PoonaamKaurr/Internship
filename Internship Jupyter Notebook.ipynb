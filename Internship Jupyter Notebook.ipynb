{
 "cells": [
  {
   "cell_type": "code",
   "execution_count": 1,
   "id": "83270920",
   "metadata": {},
   "outputs": [],
   "source": [
    "#Q1-Which of the following operators is used to calculate remainder in a division?\n",
    "#A) # B) &\n",
    "#C) % D) $"
   ]
  },
  {
   "cell_type": "code",
   "execution_count": 2,
   "id": "19d783d9",
   "metadata": {},
   "outputs": [],
   "source": [
    "# Answer:- Option C %"
   ]
  },
  {
   "cell_type": "code",
   "execution_count": 3,
   "id": "007f81c3",
   "metadata": {},
   "outputs": [],
   "source": [
    "#Q2 In Python 2//3 is equal to?"
   ]
  },
  {
   "cell_type": "code",
   "execution_count": 11,
   "id": "8b4ebf28",
   "metadata": {},
   "outputs": [],
   "source": [
    "#Answer B- 0"
   ]
  },
  {
   "cell_type": "code",
   "execution_count": 13,
   "id": "4bdd4a30",
   "metadata": {},
   "outputs": [],
   "source": [
    "#In python, 6<<2 is equal to?\n",
    "#A) 36 B) 10\n",
    "#C) 24 D) 45"
   ]
  },
  {
   "cell_type": "code",
   "execution_count": 1,
   "id": "6bc8b7d8",
   "metadata": {},
   "outputs": [],
   "source": [
    "#Answer C 24"
   ]
  },
  {
   "cell_type": "code",
   "execution_count": 2,
   "id": "15fee68a",
   "metadata": {},
   "outputs": [],
   "source": [
    "#In python, 6&2 will give which of the following as output?\n",
    "#A) 2 B) True\n",
    "#C) False D) 0\n"
   ]
  },
  {
   "cell_type": "code",
   "execution_count": 3,
   "id": "f0c3f68e",
   "metadata": {},
   "outputs": [],
   "source": [
    "#Answer - A-2"
   ]
  },
  {
   "cell_type": "code",
   "execution_count": 4,
   "id": "e4ea73da",
   "metadata": {},
   "outputs": [],
   "source": [
    "#In python, 6|2 will give which of the following as output?\n",
    "#A) 2 B) 4\n",
    "#C) 0 D) 6"
   ]
  },
  {
   "cell_type": "code",
   "execution_count": 5,
   "id": "67cd6e4c",
   "metadata": {},
   "outputs": [],
   "source": [
    "#Answer D 6"
   ]
  },
  {
   "cell_type": "code",
   "execution_count": 6,
   "id": "0736b16d",
   "metadata": {},
   "outputs": [],
   "source": [
    "#What does the finally keyword denotes in python?\n",
    "#A) It is used to mark the end of the code\n",
    "#B) It encloses the lines of code which will be executed if any error occurs while executing the lines of code in \n",
    "#the try block.\n",
    "#C) the finally block will be executed no matter if the try block raises an error or not.\n",
    "#D) None of the above"
   ]
  },
  {
   "cell_type": "code",
   "execution_count": 7,
   "id": "48546c35",
   "metadata": {},
   "outputs": [],
   "source": [
    "#Answer- Option A"
   ]
  },
  {
   "cell_type": "code",
   "execution_count": 8,
   "id": "8a0dd8db",
   "metadata": {},
   "outputs": [],
   "source": [
    "#What does raise keyword is used for in python?\n",
    "#A) It is used to raise an exception. B) It is used to define lambda function\n",
    "#C) it's not a keyword in python. D) None of the above"
   ]
  },
  {
   "cell_type": "code",
   "execution_count": 9,
   "id": "b6a00233",
   "metadata": {},
   "outputs": [],
   "source": [
    "#Answer Option A"
   ]
  },
  {
   "cell_type": "code",
   "execution_count": null,
   "id": "4941d335",
   "metadata": {},
   "outputs": [],
   "source": [
    "# Which of the following is a common use case of yield keyword in python?\n",
    "#A) in defining an iterator B) while defining a lambda function\n",
    "#C) in defining a generator D) in for loop."
   ]
  },
  {
   "cell_type": "code",
   "execution_count": 10,
   "id": "27902a3d",
   "metadata": {},
   "outputs": [],
   "source": [
    "#Answer C in defining a generator"
   ]
  },
  {
   "cell_type": "code",
   "execution_count": 11,
   "id": "d19a002e",
   "metadata": {},
   "outputs": [],
   "source": [
    "#Q9 and Q10 have multiple correct answers. Choose all the correct options to answer your question.\n",
    "#. Which of the following are the valid variable names?\n",
    "#A) _abc B) 1abc\n",
    "#C) abc2 D) None of the above"
   ]
  },
  {
   "cell_type": "code",
   "execution_count": 12,
   "id": "4c736cb4",
   "metadata": {},
   "outputs": [],
   "source": [
    "#Answer A and C"
   ]
  },
  {
   "cell_type": "code",
   "execution_count": 13,
   "id": "1c498959",
   "metadata": {},
   "outputs": [],
   "source": [
    "#Which of the following are the keywords in python?\n",
    "#A) yield B) raise\n",
    "#C) look-in D) all of the above"
   ]
  },
  {
   "cell_type": "code",
   "execution_count": 14,
   "id": "993fa2b1",
   "metadata": {},
   "outputs": [],
   "source": [
    "#Answer A and B"
   ]
  },
  {
   "cell_type": "code",
   "execution_count": 15,
   "id": "cd1fcbbe",
   "metadata": {},
   "outputs": [],
   "source": [
    "# Write a python program to find the factorial of a number"
   ]
  },
  {
   "cell_type": "code",
   "execution_count": null,
   "id": "d220a3fa",
   "metadata": {},
   "outputs": [],
   "source": [
    "a = int(input(\"Enter a number: \")) \n",
    "f = 1 \n",
    "for i in range(1,a+1): \n",
    "\tf = f * i \n",
    " \n",
    "print(f'The factorial of the number is {f}') "
   ]
  },
  {
   "cell_type": "code",
   "execution_count": null,
   "id": "0dbe0a60",
   "metadata": {},
   "outputs": [],
   "source": [
    "#12. Write a python program to find whether a number is prime or composite."
   ]
  },
  {
   "cell_type": "code",
   "execution_count": null,
   "id": "e21e33e9",
   "metadata": {},
   "outputs": [],
   "source": [
    "num = int(input(\"Enter any number : \"))\n",
    "if num > 1:\n",
    "    for i in range(2, num):\n",
    "        if (num % i) == 0:\n",
    "            print(num, \"is NOT a prime number\")\n",
    "            break\n",
    "    else:\n",
    "        print(num, \"is a PRIME number\")\n",
    "elif num == 0 or 1:\n",
    "    print(num, \"is a neither prime NOR composite number\")\n",
    "else:\n",
    "    print(num, \"is NOT a prime number it is a COMPOSITE number\")"
   ]
  },
  {
   "cell_type": "code",
   "execution_count": null,
   "id": "2cd25367",
   "metadata": {},
   "outputs": [],
   "source": [
    "#13. Write a python program to check whether a given string is palindrome or not.\n"
   ]
  },
  {
   "cell_type": "code",
   "execution_count": null,
   "id": "a856dec2",
   "metadata": {},
   "outputs": [],
   "source": [
    "#str_1 = input (“Enter the string to check if it is a palindrome: “)\n",
    "\n",
    "str_1 = str_1.casefold ()\n",
    "\n",
    "rev_str = reversed (str_1)\n",
    "\n",
    "if (list str_1) == list (rev_str):\n",
    "\n",
    "              print (“The string is a palindrome.”)\n",
    "\n",
    "else:\n",
    "\n",
    "              print (“The string is not a palindrome.”)"
   ]
  },
  {
   "cell_type": "code",
   "execution_count": null,
   "id": "20c44e0a",
   "metadata": {},
   "outputs": [],
   "source": [
    "#14. Write a Python program to get the third side of right-angled triangle from two given sides."
   ]
  },
  {
   "cell_type": "code",
   "execution_count": null,
   "id": "71846bdd",
   "metadata": {},
   "outputs": [],
   "source": [
    "#Answer "
   ]
  },
  {
   "cell_type": "code",
   "execution_count": null,
   "id": "7459db46",
   "metadata": {},
   "outputs": [],
   "source": [
    "#15. Write a python program to print the frequency of each of the characters present in a given string."
   ]
  },
  {
   "cell_type": "code",
   "execution_count": null,
   "id": "5b239532",
   "metadata": {},
   "outputs": [],
   "source": [
    "#Answer \n",
    "all_freq = {}\n",
    "  \n",
    "for i in test_str:\n",
    "    if i in all_freq:\n",
    "        all_freq[i] += 1\n",
    "    else:\n",
    "        all_freq[i] = 1"
   ]
  },
  {
   "cell_type": "code",
   "execution_count": null,
   "id": "9fd86314",
   "metadata": {},
   "outputs": [],
   "source": []
  }
 ],
 "metadata": {
  "kernelspec": {
   "display_name": "Python 3 (ipykernel)",
   "language": "python",
   "name": "python3"
  },
  "language_info": {
   "codemirror_mode": {
    "name": "ipython",
    "version": 3
   },
   "file_extension": ".py",
   "mimetype": "text/x-python",
   "name": "python",
   "nbconvert_exporter": "python",
   "pygments_lexer": "ipython3",
   "version": "3.9.7"
  }
 },
 "nbformat": 4,
 "nbformat_minor": 5
}
