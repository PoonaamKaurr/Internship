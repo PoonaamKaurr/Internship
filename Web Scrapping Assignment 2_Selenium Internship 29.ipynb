{
 "cells": [
  {
   "cell_type": "code",
   "execution_count": 1,
   "id": "c01dd43a",
   "metadata": {},
   "outputs": [
    {
     "name": "stdout",
     "output_type": "stream",
     "text": [
      "Requirement already satisfied: selenium in c:\\users\\suraj\\anaconda3\\lib\\site-packages (4.3.0)\n",
      "Requirement already satisfied: trio-websocket~=0.9 in c:\\users\\suraj\\anaconda3\\lib\\site-packages (from selenium) (0.9.2)\n",
      "Requirement already satisfied: urllib3[secure,socks]~=1.26 in c:\\users\\suraj\\anaconda3\\lib\\site-packages (from selenium) (1.26.7)\n",
      "Requirement already satisfied: trio~=0.17 in c:\\users\\suraj\\anaconda3\\lib\\site-packages (from selenium) (0.21.0)\n",
      "Requirement already satisfied: sortedcontainers in c:\\users\\suraj\\anaconda3\\lib\\site-packages (from trio~=0.17->selenium) (2.4.0)\n",
      "Requirement already satisfied: async-generator>=1.9 in c:\\users\\suraj\\anaconda3\\lib\\site-packages (from trio~=0.17->selenium) (1.10)\n",
      "Requirement already satisfied: cffi>=1.14 in c:\\users\\suraj\\anaconda3\\lib\\site-packages (from trio~=0.17->selenium) (1.14.6)\n",
      "Requirement already satisfied: outcome in c:\\users\\suraj\\anaconda3\\lib\\site-packages (from trio~=0.17->selenium) (1.2.0)\n",
      "Requirement already satisfied: attrs>=19.2.0 in c:\\users\\suraj\\anaconda3\\lib\\site-packages (from trio~=0.17->selenium) (21.2.0)\n",
      "Requirement already satisfied: idna in c:\\users\\suraj\\anaconda3\\lib\\site-packages (from trio~=0.17->selenium) (3.2)\n",
      "Requirement already satisfied: sniffio in c:\\users\\suraj\\anaconda3\\lib\\site-packages (from trio~=0.17->selenium) (1.2.0)\n",
      "Requirement already satisfied: pycparser in c:\\users\\suraj\\anaconda3\\lib\\site-packages (from cffi>=1.14->trio~=0.17->selenium) (2.20)\n",
      "Requirement already satisfied: wsproto>=0.14 in c:\\users\\suraj\\anaconda3\\lib\\site-packages (from trio-websocket~=0.9->selenium) (1.1.0)\n",
      "Requirement already satisfied: pyOpenSSL>=0.14 in c:\\users\\suraj\\anaconda3\\lib\\site-packages (from urllib3[secure,socks]~=1.26->selenium) (21.0.0)\n",
      "Requirement already satisfied: cryptography>=1.3.4 in c:\\users\\suraj\\anaconda3\\lib\\site-packages (from urllib3[secure,socks]~=1.26->selenium) (3.4.8)\n",
      "Requirement already satisfied: certifi in c:\\users\\suraj\\anaconda3\\lib\\site-packages (from urllib3[secure,socks]~=1.26->selenium) (2021.10.8)\n",
      "Requirement already satisfied: PySocks!=1.5.7,<2.0,>=1.5.6 in c:\\users\\suraj\\anaconda3\\lib\\site-packages (from urllib3[secure,socks]~=1.26->selenium) (1.7.1)\n",
      "Requirement already satisfied: six>=1.5.2 in c:\\users\\suraj\\anaconda3\\lib\\site-packages (from pyOpenSSL>=0.14->urllib3[secure,socks]~=1.26->selenium) (1.16.0)\n",
      "Requirement already satisfied: h11<1,>=0.9.0 in c:\\users\\suraj\\anaconda3\\lib\\site-packages (from wsproto>=0.14->trio-websocket~=0.9->selenium) (0.13.0)\n"
     ]
    }
   ],
   "source": [
    "!pip install selenium "
   ]
  },
  {
   "cell_type": "markdown",
   "id": "0b4bc88f",
   "metadata": {},
   "source": [
    "## Q1 Write a python program to scrape data for “Data Analyst” Job position in “Bangalore” location. You have to scrape the job-title, job-location, company_name, experience_required. You have to scrape first 10 jobs data.\n",
    " "
   ]
  },
  {
   "cell_type": "code",
   "execution_count": 58,
   "id": "401953e3",
   "metadata": {},
   "outputs": [],
   "source": [
    "# importing all  the neccessary libs\n",
    "import pandas as pd \n",
    "import numpy as np\n",
    "from selenium import webdriver\n",
    "from selenium.webdriver.common.by import By\n",
    "import warnings\n",
    "warnings.filterwarnings('ignore')"
   ]
  },
  {
   "cell_type": "code",
   "execution_count": 59,
   "id": "da7c7116",
   "metadata": {},
   "outputs": [],
   "source": [
    "#command for open  the  automation window of browser \n",
    "driver1 = webdriver.Chrome('chromedriver.exe')"
   ]
  },
  {
   "cell_type": "code",
   "execution_count": 60,
   "id": "371fb9d4",
   "metadata": {},
   "outputs": [],
   "source": [
    "#now  the automation page is opened now , we are opening  the required website page  in it \n",
    "driver1.get('https://www.naukri.com/')"
   ]
  },
  {
   "cell_type": "code",
   "execution_count": 61,
   "id": "704460a3",
   "metadata": {},
   "outputs": [],
   "source": [
    "#now  checking   for  the position which is required  to search  here ex-data anlyst\n",
    "\n",
    "search_feild_designation= driver1.find_element(By.CLASS_NAME,'suggestor-input')\n",
    "search_feild_designation.send_keys('Data Analyst')"
   ]
  },
  {
   "cell_type": "code",
   "execution_count": 62,
   "id": "d58897a3",
   "metadata": {},
   "outputs": [],
   "source": [
    "#now  we will be  checking  the  next area  which by location  ex-bangolore \n",
    "\n",
    "search_location= driver1.find_element(\"xpath\",('/html/body/div[1]/div[2]/div[3]/div/div/div[5]/div/div/div/input')).send_keys('Bangalore')\n"
   ]
  },
  {
   "cell_type": "code",
   "execution_count": 64,
   "id": "74b50abe",
   "metadata": {},
   "outputs": [],
   "source": [
    "search_button= driver1.find_element(\"xpath\",'/html/body/div[1]/div[2]/div[3]/div/div/div[6]').click()\n"
   ]
  },
  {
   "cell_type": "code",
   "execution_count": 67,
   "id": "dc7f5e3d",
   "metadata": {},
   "outputs": [
    {
     "data": {
      "text/plain": [
       "[<selenium.webdriver.remote.webelement.WebElement (session=\"e734d2785d8ac348af12cb9d9b1b2faa\", element=\"d8dea7a1-47ca-4abb-9dff-3b8a82310382\")>,\n",
       " <selenium.webdriver.remote.webelement.WebElement (session=\"e734d2785d8ac348af12cb9d9b1b2faa\", element=\"d7b89158-1fbd-4b75-b447-cdf91f74e2c3\")>,\n",
       " <selenium.webdriver.remote.webelement.WebElement (session=\"e734d2785d8ac348af12cb9d9b1b2faa\", element=\"477de910-e8f9-4b9b-bd95-7bdcbe111c6a\")>,\n",
       " <selenium.webdriver.remote.webelement.WebElement (session=\"e734d2785d8ac348af12cb9d9b1b2faa\", element=\"59d03c96-6803-490d-b670-076ae2f18008\")>,\n",
       " <selenium.webdriver.remote.webelement.WebElement (session=\"e734d2785d8ac348af12cb9d9b1b2faa\", element=\"1663e42a-15bb-46d1-8be1-f26c609861cf\")>,\n",
       " <selenium.webdriver.remote.webelement.WebElement (session=\"e734d2785d8ac348af12cb9d9b1b2faa\", element=\"7043c4ef-b1c7-48bf-8835-b75441e9ab5e\")>,\n",
       " <selenium.webdriver.remote.webelement.WebElement (session=\"e734d2785d8ac348af12cb9d9b1b2faa\", element=\"e0bd5d5c-e913-4698-bfb3-e56e744a5669\")>,\n",
       " <selenium.webdriver.remote.webelement.WebElement (session=\"e734d2785d8ac348af12cb9d9b1b2faa\", element=\"4c343a9d-1772-45b6-a97a-cb4e46105c8c\")>,\n",
       " <selenium.webdriver.remote.webelement.WebElement (session=\"e734d2785d8ac348af12cb9d9b1b2faa\", element=\"750a2141-3b81-4fd7-8208-6d373d72110a\")>,\n",
       " <selenium.webdriver.remote.webelement.WebElement (session=\"e734d2785d8ac348af12cb9d9b1b2faa\", element=\"804c0e5c-aab2-4314-b6f1-c7f27d853731\")>]"
      ]
     },
     "execution_count": 67,
     "metadata": {},
     "output_type": "execute_result"
    }
   ],
   "source": [
    "job_title=[]\n",
    "\n",
    "title_tags=driver1.find_elements(\"xpath\",'//a[@class=\"title fw500 ellipsis\"]')\n",
    "title_tags[0:10]"
   ]
  },
  {
   "cell_type": "code",
   "execution_count": 68,
   "id": "6ec9ce42",
   "metadata": {},
   "outputs": [
    {
     "data": {
      "text/plain": [
       "['Associate - Data Analyst',\n",
       " 'Sr.Business Data Analyst',\n",
       " 'Sr Data Analyst',\n",
       " 'Senior Data Analysis Analyst',\n",
       " 'Job opportunity For Data Analyst at Trellance - India',\n",
       " 'Data Analyst',\n",
       " 'Senior Data Analyst',\n",
       " 'Master Data Management Business Analyst',\n",
       " 'Hiring For Data Analyst',\n",
       " 'Data Analyst']"
      ]
     },
     "execution_count": 68,
     "metadata": {},
     "output_type": "execute_result"
    }
   ],
   "source": [
    "# printing  the  10 job  titles  in the  text   format \n",
    "for i in title_tags:\n",
    "    title=i.text\n",
    "    job_title.append(title)\n",
    "job_title[0:10]\n",
    "    "
   ]
  },
  {
   "cell_type": "code",
   "execution_count": 71,
   "id": "07c67c63",
   "metadata": {},
   "outputs": [
    {
     "data": {
      "text/plain": [
       "[<selenium.webdriver.remote.webelement.WebElement (session=\"e734d2785d8ac348af12cb9d9b1b2faa\", element=\"5e16ec96-7329-47c9-89e8-442bfae8954d\")>,\n",
       " <selenium.webdriver.remote.webelement.WebElement (session=\"e734d2785d8ac348af12cb9d9b1b2faa\", element=\"7935401a-f26c-41ea-8f39-56a1783dffab\")>,\n",
       " <selenium.webdriver.remote.webelement.WebElement (session=\"e734d2785d8ac348af12cb9d9b1b2faa\", element=\"4e3b1bf2-fe44-4ac7-a78d-f3a5d9a14b03\")>,\n",
       " <selenium.webdriver.remote.webelement.WebElement (session=\"e734d2785d8ac348af12cb9d9b1b2faa\", element=\"581260bb-4748-4ce1-b70b-4c7f4e5b7969\")>,\n",
       " <selenium.webdriver.remote.webelement.WebElement (session=\"e734d2785d8ac348af12cb9d9b1b2faa\", element=\"663ffb37-d015-4a12-bc98-b8114010bb6b\")>,\n",
       " <selenium.webdriver.remote.webelement.WebElement (session=\"e734d2785d8ac348af12cb9d9b1b2faa\", element=\"9424a924-7683-4b49-86e5-de6b54105d56\")>,\n",
       " <selenium.webdriver.remote.webelement.WebElement (session=\"e734d2785d8ac348af12cb9d9b1b2faa\", element=\"7bdd1306-5ed1-4fe1-b85a-57e2186d1328\")>,\n",
       " <selenium.webdriver.remote.webelement.WebElement (session=\"e734d2785d8ac348af12cb9d9b1b2faa\", element=\"eea94882-a9d5-4a1b-82b6-ef3210edaf90\")>,\n",
       " <selenium.webdriver.remote.webelement.WebElement (session=\"e734d2785d8ac348af12cb9d9b1b2faa\", element=\"e861424d-0499-4df2-ad75-86d190323fa3\")>,\n",
       " <selenium.webdriver.remote.webelement.WebElement (session=\"e734d2785d8ac348af12cb9d9b1b2faa\", element=\"cbeb7a6d-46cb-4392-9119-1ad65094c759\")>]"
      ]
     },
     "execution_count": 71,
     "metadata": {},
     "output_type": "execute_result"
    }
   ],
   "source": [
    "#  now  we  will be scraping  the  job location \n",
    "job_loc=[]\n",
    "loc_tag= driver1.find_elements(\"xpath\",('//li[@class=\"fleft grey-text br2 placeHolderLi location\"]/span[1]'))\n",
    "loc_tag[0:10]"
   ]
  },
  {
   "cell_type": "code",
   "execution_count": 72,
   "id": "5061323d",
   "metadata": {},
   "outputs": [
    {
     "data": {
      "text/plain": [
       "['Bangalore/Bengaluru',\n",
       " 'Bangalore/Bengaluru, karnataka',\n",
       " 'Bangalore/Bengaluru',\n",
       " 'Bangalore/Bengaluru, Pune, Chennai',\n",
       " 'Bangalore/Bengaluru, Ahmedabad',\n",
       " 'Bangalore/Bengaluru',\n",
       " 'Bangalore/Bengaluru(Old Madras Road)',\n",
       " 'Bangalore/Bengaluru',\n",
       " 'Bangalore/Bengaluru',\n",
       " 'Bangalore/Bengaluru, Noida, Hyderabad/Secunderabad, Gurgaon/Gurugram, Chennai, Mumbai (All Areas), Pune']"
      ]
     },
     "execution_count": 72,
     "metadata": {},
     "output_type": "execute_result"
    }
   ],
   "source": [
    "# now  printing  the  10  job locations here in text\n",
    "for i in loc_tag:\n",
    "    loc=i.text\n",
    "    job_loc.append(loc)\n",
    "job_loc[0:10]"
   ]
  },
  {
   "cell_type": "code",
   "execution_count": 74,
   "id": "582107ae",
   "metadata": {},
   "outputs": [
    {
     "data": {
      "text/plain": [
       "[<selenium.webdriver.remote.webelement.WebElement (session=\"e734d2785d8ac348af12cb9d9b1b2faa\", element=\"d9dd9040-3635-43ed-8b02-42c85664cfef\")>,\n",
       " <selenium.webdriver.remote.webelement.WebElement (session=\"e734d2785d8ac348af12cb9d9b1b2faa\", element=\"67c2d851-17de-4ab7-b585-f53ad7efb6b4\")>,\n",
       " <selenium.webdriver.remote.webelement.WebElement (session=\"e734d2785d8ac348af12cb9d9b1b2faa\", element=\"6c38d946-035c-463f-9618-03cf39fea75d\")>,\n",
       " <selenium.webdriver.remote.webelement.WebElement (session=\"e734d2785d8ac348af12cb9d9b1b2faa\", element=\"29fdbec5-46f9-4e46-b8fa-b2c49731f5de\")>,\n",
       " <selenium.webdriver.remote.webelement.WebElement (session=\"e734d2785d8ac348af12cb9d9b1b2faa\", element=\"abeca098-40ef-406c-b0c0-0fe1d3d001bb\")>,\n",
       " <selenium.webdriver.remote.webelement.WebElement (session=\"e734d2785d8ac348af12cb9d9b1b2faa\", element=\"87ac25f3-a3e6-4edf-92bf-7e317edaa47f\")>,\n",
       " <selenium.webdriver.remote.webelement.WebElement (session=\"e734d2785d8ac348af12cb9d9b1b2faa\", element=\"aca30b40-f668-4225-bb60-366874eb84e0\")>,\n",
       " <selenium.webdriver.remote.webelement.WebElement (session=\"e734d2785d8ac348af12cb9d9b1b2faa\", element=\"51f73d72-f6f6-41c1-95dc-4ecee452be9b\")>,\n",
       " <selenium.webdriver.remote.webelement.WebElement (session=\"e734d2785d8ac348af12cb9d9b1b2faa\", element=\"ee26645c-dffa-484f-a3ac-bfe91e7f7a4f\")>,\n",
       " <selenium.webdriver.remote.webelement.WebElement (session=\"e734d2785d8ac348af12cb9d9b1b2faa\", element=\"99188e74-7cca-4409-b47e-dd966822cf25\")>]"
      ]
     },
     "execution_count": 74,
     "metadata": {},
     "output_type": "execute_result"
    }
   ],
   "source": [
    "#now printing  all the 10 comapany names\n",
    "work_co=[]\n",
    "company_tag = driver1.find_elements(\"xpath\",('//a[@class=\"subTitle ellipsis fleft\"]'))\n",
    "company_tag[0:10]"
   ]
  },
  {
   "cell_type": "code",
   "execution_count": 75,
   "id": "08818f59",
   "metadata": {},
   "outputs": [
    {
     "data": {
      "text/plain": [
       "['Myntra',\n",
       " 'Collabera',\n",
       " 'Thomson Reuters',\n",
       " 'Capco',\n",
       " 'CURise Analytics Pvt. Ltd.',\n",
       " 'Thomson Reuters',\n",
       " 'KrazyBee',\n",
       " 'Accenture',\n",
       " 'Flipkart',\n",
       " 'Wipro']"
      ]
     },
     "execution_count": 75,
     "metadata": {},
     "output_type": "execute_result"
    }
   ],
   "source": [
    "#now  converting  them  to text  formats\n",
    "for i  in  company_tag:\n",
    "    company=i.text.strip('[]')\n",
    "    work_co.append(company)\n",
    "work_co[0:10]"
   ]
  },
  {
   "cell_type": "code",
   "execution_count": 77,
   "id": "cda54501",
   "metadata": {},
   "outputs": [
    {
     "data": {
      "text/plain": [
       "[<selenium.webdriver.remote.webelement.WebElement (session=\"e734d2785d8ac348af12cb9d9b1b2faa\", element=\"a03c6b74-8bee-481b-afe6-d619f25be252\")>,\n",
       " <selenium.webdriver.remote.webelement.WebElement (session=\"e734d2785d8ac348af12cb9d9b1b2faa\", element=\"2d901aef-dff0-444c-a0a5-fc149a84f49b\")>,\n",
       " <selenium.webdriver.remote.webelement.WebElement (session=\"e734d2785d8ac348af12cb9d9b1b2faa\", element=\"7d6e7344-2bab-42da-93b5-e8d640f46139\")>,\n",
       " <selenium.webdriver.remote.webelement.WebElement (session=\"e734d2785d8ac348af12cb9d9b1b2faa\", element=\"a7950e9c-22a8-471d-be20-07020f498aef\")>,\n",
       " <selenium.webdriver.remote.webelement.WebElement (session=\"e734d2785d8ac348af12cb9d9b1b2faa\", element=\"a92717c6-f8d6-404a-b68a-6a83f798543d\")>,\n",
       " <selenium.webdriver.remote.webelement.WebElement (session=\"e734d2785d8ac348af12cb9d9b1b2faa\", element=\"ad93ed48-42a1-4d1b-b1db-7446b3031417\")>,\n",
       " <selenium.webdriver.remote.webelement.WebElement (session=\"e734d2785d8ac348af12cb9d9b1b2faa\", element=\"c6d02d0f-37c9-4251-96aa-edd26465fc4f\")>,\n",
       " <selenium.webdriver.remote.webelement.WebElement (session=\"e734d2785d8ac348af12cb9d9b1b2faa\", element=\"c0581982-759d-48ed-b748-291485a260be\")>,\n",
       " <selenium.webdriver.remote.webelement.WebElement (session=\"e734d2785d8ac348af12cb9d9b1b2faa\", element=\"65c87304-fbb4-440e-9da8-a13eede0c2e7\")>,\n",
       " <selenium.webdriver.remote.webelement.WebElement (session=\"e734d2785d8ac348af12cb9d9b1b2faa\", element=\"180ce524-6278-431a-92e0-f36fdfcf0cbb\")>]"
      ]
     },
     "execution_count": 77,
     "metadata": {},
     "output_type": "execute_result"
    }
   ],
   "source": [
    "#now  we  will scarping  all  the1st  10  experiences   of  all  the comapnies \n",
    "exp_title=[]\n",
    "\n",
    "exp_tag = driver1.find_elements(\"xpath\",('//li[@class=\"fleft grey-text br2 placeHolderLi experience\"]'))\n",
    "exp_tag[0:10]"
   ]
  },
  {
   "cell_type": "code",
   "execution_count": 78,
   "id": "d7df8505",
   "metadata": {},
   "outputs": [
    {
     "data": {
      "text/plain": [
       "['0-2 Yrs',\n",
       " '6-11 Yrs',\n",
       " '5-8 Yrs',\n",
       " '7-12 Yrs',\n",
       " '0-2 Yrs',\n",
       " '2-3 Yrs',\n",
       " '3-6 Yrs',\n",
       " '6-8 Yrs',\n",
       " '2-5 Yrs',\n",
       " '4-9 Yrs']"
      ]
     },
     "execution_count": 78,
     "metadata": {},
     "output_type": "execute_result"
    }
   ],
   "source": [
    "# now  we  will converting  the  fetched items  as  text format \n",
    "for i in exp_tag:\n",
    "    exps=i.text\n",
    "    exp_title.append(exps)\n",
    "exp_title[0:10]"
   ]
  },
  {
   "cell_type": "code",
   "execution_count": 79,
   "id": "63bdfb30",
   "metadata": {},
   "outputs": [
    {
     "data": {
      "text/html": [
       "<div>\n",
       "<style scoped>\n",
       "    .dataframe tbody tr th:only-of-type {\n",
       "        vertical-align: middle;\n",
       "    }\n",
       "\n",
       "    .dataframe tbody tr th {\n",
       "        vertical-align: top;\n",
       "    }\n",
       "\n",
       "    .dataframe thead th {\n",
       "        text-align: right;\n",
       "    }\n",
       "</style>\n",
       "<table border=\"1\" class=\"dataframe\">\n",
       "  <thead>\n",
       "    <tr style=\"text-align: right;\">\n",
       "      <th></th>\n",
       "      <th>Job_titles</th>\n",
       "      <th>job_location</th>\n",
       "      <th>company names</th>\n",
       "      <th>experiences</th>\n",
       "    </tr>\n",
       "  </thead>\n",
       "  <tbody>\n",
       "    <tr>\n",
       "      <th>0</th>\n",
       "      <td>Associate - Data Analyst</td>\n",
       "      <td>Bangalore/Bengaluru</td>\n",
       "      <td>Myntra</td>\n",
       "      <td>0-2 Yrs</td>\n",
       "    </tr>\n",
       "    <tr>\n",
       "      <th>1</th>\n",
       "      <td>Sr.Business Data Analyst</td>\n",
       "      <td>Bangalore/Bengaluru, karnataka</td>\n",
       "      <td>Collabera</td>\n",
       "      <td>6-11 Yrs</td>\n",
       "    </tr>\n",
       "    <tr>\n",
       "      <th>2</th>\n",
       "      <td>Sr Data Analyst</td>\n",
       "      <td>Bangalore/Bengaluru</td>\n",
       "      <td>Thomson Reuters</td>\n",
       "      <td>5-8 Yrs</td>\n",
       "    </tr>\n",
       "    <tr>\n",
       "      <th>3</th>\n",
       "      <td>Senior Data Analysis Analyst</td>\n",
       "      <td>Bangalore/Bengaluru, Pune, Chennai</td>\n",
       "      <td>Capco</td>\n",
       "      <td>7-12 Yrs</td>\n",
       "    </tr>\n",
       "    <tr>\n",
       "      <th>4</th>\n",
       "      <td>Job opportunity For Data Analyst at Trellance ...</td>\n",
       "      <td>Bangalore/Bengaluru, Ahmedabad</td>\n",
       "      <td>CURise Analytics Pvt. Ltd.</td>\n",
       "      <td>0-2 Yrs</td>\n",
       "    </tr>\n",
       "    <tr>\n",
       "      <th>5</th>\n",
       "      <td>Data Analyst</td>\n",
       "      <td>Bangalore/Bengaluru</td>\n",
       "      <td>Thomson Reuters</td>\n",
       "      <td>2-3 Yrs</td>\n",
       "    </tr>\n",
       "    <tr>\n",
       "      <th>6</th>\n",
       "      <td>Senior Data Analyst</td>\n",
       "      <td>Bangalore/Bengaluru(Old Madras Road)</td>\n",
       "      <td>KrazyBee</td>\n",
       "      <td>3-6 Yrs</td>\n",
       "    </tr>\n",
       "    <tr>\n",
       "      <th>7</th>\n",
       "      <td>Master Data Management Business Analyst</td>\n",
       "      <td>Bangalore/Bengaluru</td>\n",
       "      <td>Accenture</td>\n",
       "      <td>6-8 Yrs</td>\n",
       "    </tr>\n",
       "    <tr>\n",
       "      <th>8</th>\n",
       "      <td>Hiring For Data Analyst</td>\n",
       "      <td>Bangalore/Bengaluru</td>\n",
       "      <td>Flipkart</td>\n",
       "      <td>2-5 Yrs</td>\n",
       "    </tr>\n",
       "    <tr>\n",
       "      <th>9</th>\n",
       "      <td>Data Analyst</td>\n",
       "      <td>Bangalore/Bengaluru, Noida, Hyderabad/Secunder...</td>\n",
       "      <td>Wipro</td>\n",
       "      <td>4-9 Yrs</td>\n",
       "    </tr>\n",
       "  </tbody>\n",
       "</table>\n",
       "</div>"
      ],
      "text/plain": [
       "                                          Job_titles  \\\n",
       "0                           Associate - Data Analyst   \n",
       "1                           Sr.Business Data Analyst   \n",
       "2                                    Sr Data Analyst   \n",
       "3                       Senior Data Analysis Analyst   \n",
       "4  Job opportunity For Data Analyst at Trellance ...   \n",
       "5                                       Data Analyst   \n",
       "6                                Senior Data Analyst   \n",
       "7            Master Data Management Business Analyst   \n",
       "8                            Hiring For Data Analyst   \n",
       "9                                       Data Analyst   \n",
       "\n",
       "                                        job_location  \\\n",
       "0                                Bangalore/Bengaluru   \n",
       "1                     Bangalore/Bengaluru, karnataka   \n",
       "2                                Bangalore/Bengaluru   \n",
       "3                 Bangalore/Bengaluru, Pune, Chennai   \n",
       "4                     Bangalore/Bengaluru, Ahmedabad   \n",
       "5                                Bangalore/Bengaluru   \n",
       "6               Bangalore/Bengaluru(Old Madras Road)   \n",
       "7                                Bangalore/Bengaluru   \n",
       "8                                Bangalore/Bengaluru   \n",
       "9  Bangalore/Bengaluru, Noida, Hyderabad/Secunder...   \n",
       "\n",
       "                company names experiences  \n",
       "0                      Myntra     0-2 Yrs  \n",
       "1                   Collabera    6-11 Yrs  \n",
       "2             Thomson Reuters     5-8 Yrs  \n",
       "3                       Capco    7-12 Yrs  \n",
       "4  CURise Analytics Pvt. Ltd.     0-2 Yrs  \n",
       "5             Thomson Reuters     2-3 Yrs  \n",
       "6                    KrazyBee     3-6 Yrs  \n",
       "7                   Accenture     6-8 Yrs  \n",
       "8                    Flipkart     2-5 Yrs  \n",
       "9                       Wipro     4-9 Yrs  "
      ]
     },
     "execution_count": 79,
     "metadata": {},
     "output_type": "execute_result"
    }
   ],
   "source": [
    "naukri_data = pd.DataFrame({})\n",
    "naukri_data['Job_titles']=job_title\n",
    "naukri_data['job_location']=job_loc\n",
    "naukri_data['company names']=work_co\n",
    "naukri_data['experiences']=exp_title\n",
    "naukri_data[0:10]"
   ]
  },
  {
   "cell_type": "markdown",
   "id": "e044a097",
   "metadata": {},
   "source": [
    "## Q2: Write a python program to scrape data for “Data Scientist” Job position in “Bangalore” location. You have to scrape the job-title, job-location, company_name. You have to scrape first 10 jobs data"
   ]
  },
  {
   "cell_type": "code",
   "execution_count": 80,
   "id": "26ce3329",
   "metadata": {},
   "outputs": [],
   "source": [
    "#command for open  the  automation window of browser \n",
    "driver2 = webdriver.Chrome('chromedriver.exe')"
   ]
  },
  {
   "cell_type": "code",
   "execution_count": 81,
   "id": "ae1384e8",
   "metadata": {},
   "outputs": [],
   "source": [
    "#now  the automation page is opened now , we are opening  the required website page  in it \n",
    "driver2.get('https://www.naukri.com/')"
   ]
  },
  {
   "cell_type": "code",
   "execution_count": 84,
   "id": "7564abdf",
   "metadata": {},
   "outputs": [],
   "source": [
    "#now  checking   for  the position which is required  to search  here ex-data anlyst\n",
    "search_feild_designation= driver2.find_element(By.CLASS_NAME,'suggestor-input')\n",
    "search_feild_designation.send_keys('Data Analyst')\n"
   ]
  },
  {
   "cell_type": "code",
   "execution_count": 86,
   "id": "8fda0819",
   "metadata": {},
   "outputs": [],
   "source": [
    "#now we will  find the  element  for  the search button,  to click and  search  for  the desired results \n",
    "\n",
    "search_button= driver2.find_element(\"xpath\",('/html/body/div/div[2]/div[3]/div/div/div[6]'))\n",
    "search_button.click()"
   ]
  },
  {
   "cell_type": "code",
   "execution_count": 88,
   "id": "e61d5a5c",
   "metadata": {},
   "outputs": [
    {
     "data": {
      "text/plain": [
       "[<selenium.webdriver.remote.webelement.WebElement (session=\"46f1b46f6f3bef8257d3007c4106c703\", element=\"cc9a967b-158b-45b1-baac-a8d54ab564a1\")>,\n",
       " <selenium.webdriver.remote.webelement.WebElement (session=\"46f1b46f6f3bef8257d3007c4106c703\", element=\"3b051adb-74bd-41b9-bf02-01630d6c1236\")>,\n",
       " <selenium.webdriver.remote.webelement.WebElement (session=\"46f1b46f6f3bef8257d3007c4106c703\", element=\"5b2613cc-d7d4-4279-bfc0-e7ef673a44a0\")>,\n",
       " <selenium.webdriver.remote.webelement.WebElement (session=\"46f1b46f6f3bef8257d3007c4106c703\", element=\"8eaef32c-af6f-46a9-ba1a-8e7f11194b7d\")>,\n",
       " <selenium.webdriver.remote.webelement.WebElement (session=\"46f1b46f6f3bef8257d3007c4106c703\", element=\"d4f9817c-759d-405f-b1e7-e53e81cbc96a\")>,\n",
       " <selenium.webdriver.remote.webelement.WebElement (session=\"46f1b46f6f3bef8257d3007c4106c703\", element=\"fcbc9372-ccff-4efc-8f36-7a6b6c624bf0\")>,\n",
       " <selenium.webdriver.remote.webelement.WebElement (session=\"46f1b46f6f3bef8257d3007c4106c703\", element=\"05160484-73ae-469f-a89c-4d307960eefb\")>,\n",
       " <selenium.webdriver.remote.webelement.WebElement (session=\"46f1b46f6f3bef8257d3007c4106c703\", element=\"4f901b2f-54fb-4f6f-9e4d-e908f6d38481\")>,\n",
       " <selenium.webdriver.remote.webelement.WebElement (session=\"46f1b46f6f3bef8257d3007c4106c703\", element=\"6a6a18a8-302d-4433-a9f3-25a7e1a8c1a3\")>,\n",
       " <selenium.webdriver.remote.webelement.WebElement (session=\"46f1b46f6f3bef8257d3007c4106c703\", element=\"a779c898-acb4-4758-b2c8-16cb2b4fd849\")>]"
      ]
     },
     "execution_count": 88,
     "metadata": {},
     "output_type": "execute_result"
    }
   ],
   "source": [
    "#Scraping the company names \n",
    "co_names=[]\n",
    "\n",
    "comp2_tag= driver2.find_elements(\"xpath\",('//a[@class=\"subTitle ellipsis fleft\"]'))\n",
    "comp2_tag[0:10]"
   ]
  },
  {
   "cell_type": "code",
   "execution_count": 89,
   "id": "c04f3ff5",
   "metadata": {},
   "outputs": [
    {
     "data": {
      "text/plain": [
       "['Shiv Singh',\n",
       " 'Myntra',\n",
       " 'Capgemini',\n",
       " 'Condeco Software',\n",
       " 'Wipro',\n",
       " 'Optum',\n",
       " 'CURise Analytics Pvt. Ltd.',\n",
       " 'Thomson Reuters',\n",
       " 'Collabera',\n",
       " 'Morningstar']"
      ]
     },
     "execution_count": 89,
     "metadata": {},
     "output_type": "execute_result"
    }
   ],
   "source": [
    "#  now converting  the names  to ,text\n",
    "for i in  comp2_tag:\n",
    "    comp=i.text\n",
    "    co_names.append(comp)\n",
    "co_names[0:10]"
   ]
  },
  {
   "cell_type": "code",
   "execution_count": 91,
   "id": "093f61ff",
   "metadata": {},
   "outputs": [
    {
     "data": {
      "text/plain": [
       "[<selenium.webdriver.remote.webelement.WebElement (session=\"46f1b46f6f3bef8257d3007c4106c703\", element=\"9e93f818-7049-43b8-a2f1-b63095ee851c\")>,\n",
       " <selenium.webdriver.remote.webelement.WebElement (session=\"46f1b46f6f3bef8257d3007c4106c703\", element=\"cd0bb360-1b94-4284-8219-d3604f2c0aad\")>,\n",
       " <selenium.webdriver.remote.webelement.WebElement (session=\"46f1b46f6f3bef8257d3007c4106c703\", element=\"5226e50d-6fc8-4182-8f7f-6e91846bd5f1\")>,\n",
       " <selenium.webdriver.remote.webelement.WebElement (session=\"46f1b46f6f3bef8257d3007c4106c703\", element=\"d4f7aa8e-139d-4b27-87ee-5e265b48371a\")>,\n",
       " <selenium.webdriver.remote.webelement.WebElement (session=\"46f1b46f6f3bef8257d3007c4106c703\", element=\"4af76fca-81a7-4e49-b365-3aaf691139f5\")>,\n",
       " <selenium.webdriver.remote.webelement.WebElement (session=\"46f1b46f6f3bef8257d3007c4106c703\", element=\"7c28d7dd-6018-48ad-845d-c62986360ef0\")>,\n",
       " <selenium.webdriver.remote.webelement.WebElement (session=\"46f1b46f6f3bef8257d3007c4106c703\", element=\"b1d81e53-68da-425b-9432-8d35d2aebffe\")>,\n",
       " <selenium.webdriver.remote.webelement.WebElement (session=\"46f1b46f6f3bef8257d3007c4106c703\", element=\"9dc720c9-899e-401e-8116-51ce86fa78cb\")>,\n",
       " <selenium.webdriver.remote.webelement.WebElement (session=\"46f1b46f6f3bef8257d3007c4106c703\", element=\"dd15c0b4-16d0-4258-b7a0-4a2b820f8abc\")>,\n",
       " <selenium.webdriver.remote.webelement.WebElement (session=\"46f1b46f6f3bef8257d3007c4106c703\", element=\"bc1378bf-5471-4241-a165-30d78e9709e5\")>]"
      ]
     },
     "execution_count": 91,
     "metadata": {},
     "output_type": "execute_result"
    }
   ],
   "source": [
    "#scraping  the , all  10 job-titles\n",
    "job_title2=[]\n",
    "\n",
    "title_tag2= driver2.find_elements(\"xpath\",('//a[@class=\"title fw500 ellipsis\"]'))\n",
    "title_tag2[0:10]"
   ]
  },
  {
   "cell_type": "code",
   "execution_count": 92,
   "id": "44fb1e13",
   "metadata": {},
   "outputs": [
    {
     "data": {
      "text/plain": [
       "['Petroleum Data Analyst',\n",
       " 'Associate - Data Analyst',\n",
       " 'Data Analyst',\n",
       " 'Senior Data Analyst',\n",
       " 'Data Analyst',\n",
       " 'Associate Manager Data Analyst',\n",
       " 'Job opportunity For Data Analyst at Trellance - India',\n",
       " 'Sr Data Analyst',\n",
       " 'Sr.Business Data Analyst',\n",
       " 'Data research analyst']"
      ]
     },
     "execution_count": 92,
     "metadata": {},
     "output_type": "execute_result"
    }
   ],
   "source": [
    "#now converting  all  the job titles  to text\n",
    "for i in title_tag2:\n",
    "    titles=i.text\n",
    "    job_title2.append(titles)\n",
    "job_title2[0:10]"
   ]
  },
  {
   "cell_type": "code",
   "execution_count": 94,
   "id": "04856831",
   "metadata": {},
   "outputs": [
    {
     "data": {
      "text/plain": [
       "[<selenium.webdriver.remote.webelement.WebElement (session=\"46f1b46f6f3bef8257d3007c4106c703\", element=\"99517cea-a6dd-46f8-8cd6-60f837b369ee\")>,\n",
       " <selenium.webdriver.remote.webelement.WebElement (session=\"46f1b46f6f3bef8257d3007c4106c703\", element=\"0f2ab896-e253-4d9c-b892-64e19d4d01e9\")>,\n",
       " <selenium.webdriver.remote.webelement.WebElement (session=\"46f1b46f6f3bef8257d3007c4106c703\", element=\"f4d997ee-414a-404d-8a2b-3589c4bfe7dd\")>,\n",
       " <selenium.webdriver.remote.webelement.WebElement (session=\"46f1b46f6f3bef8257d3007c4106c703\", element=\"e0368bde-2c24-429d-ad98-ad660e4433f5\")>,\n",
       " <selenium.webdriver.remote.webelement.WebElement (session=\"46f1b46f6f3bef8257d3007c4106c703\", element=\"f1c01885-2065-4e09-b804-51a9aac54900\")>,\n",
       " <selenium.webdriver.remote.webelement.WebElement (session=\"46f1b46f6f3bef8257d3007c4106c703\", element=\"4988cd80-e3f0-46cb-8705-ad3ec9954c3e\")>,\n",
       " <selenium.webdriver.remote.webelement.WebElement (session=\"46f1b46f6f3bef8257d3007c4106c703\", element=\"7d44df9e-049e-42b5-ab35-bb2a4a13f22e\")>,\n",
       " <selenium.webdriver.remote.webelement.WebElement (session=\"46f1b46f6f3bef8257d3007c4106c703\", element=\"6b8bf6c9-ce39-48df-bc6d-4f24d661087f\")>,\n",
       " <selenium.webdriver.remote.webelement.WebElement (session=\"46f1b46f6f3bef8257d3007c4106c703\", element=\"76e91698-d083-4847-a656-ed72b0884fc7\")>,\n",
       " <selenium.webdriver.remote.webelement.WebElement (session=\"46f1b46f6f3bef8257d3007c4106c703\", element=\"a8bc3480-8db9-4e8d-b00f-ccb32e91117b\")>]"
      ]
     },
     "execution_count": 94,
     "metadata": {},
     "output_type": "execute_result"
    }
   ],
   "source": [
    "#now scarping all  the  job_locations finally  \n",
    "job_location=[]\n",
    "\n",
    "job_tags= driver2.find_elements(\"xpath\",('//li[@class=\"fleft grey-text br2 placeHolderLi location\"]/span[1]'))\n",
    "job_tags[0:10]"
   ]
  },
  {
   "cell_type": "code",
   "execution_count": 95,
   "id": "6faff360",
   "metadata": {},
   "outputs": [
    {
     "data": {
      "text/plain": [
       "['Kolkata, Delhi / NCR, Mumbai (All Areas)',\n",
       " 'Bangalore/Bengaluru',\n",
       " 'Gurgaon/Gurugram',\n",
       " 'Gurgaon/Gurugram',\n",
       " 'Noida, Hyderabad/Secunderabad, Gurgaon/Gurugram, Chennai, Bangalore/Bengaluru, Mumbai (All Areas), Pune',\n",
       " 'Noida',\n",
       " 'Ahmedabad, Bangalore/Bengaluru',\n",
       " 'Bangalore/Bengaluru',\n",
       " 'Bangalore/Bengaluru, karnataka',\n",
       " 'Mumbai']"
      ]
     },
     "execution_count": 95,
     "metadata": {},
     "output_type": "execute_result"
    }
   ],
   "source": [
    "# converting all  the location into text\n",
    "for i in job_tags:\n",
    "    jobs=i.text\n",
    "    job_location.append(jobs)\n",
    "job_location[0:10]"
   ]
  },
  {
   "cell_type": "code",
   "execution_count": 96,
   "id": "06d12c66",
   "metadata": {},
   "outputs": [
    {
     "data": {
      "text/html": [
       "<div>\n",
       "<style scoped>\n",
       "    .dataframe tbody tr th:only-of-type {\n",
       "        vertical-align: middle;\n",
       "    }\n",
       "\n",
       "    .dataframe tbody tr th {\n",
       "        vertical-align: top;\n",
       "    }\n",
       "\n",
       "    .dataframe thead th {\n",
       "        text-align: right;\n",
       "    }\n",
       "</style>\n",
       "<table border=\"1\" class=\"dataframe\">\n",
       "  <thead>\n",
       "    <tr style=\"text-align: right;\">\n",
       "      <th></th>\n",
       "      <th>companies</th>\n",
       "      <th>job_titles</th>\n",
       "      <th>location</th>\n",
       "    </tr>\n",
       "  </thead>\n",
       "  <tbody>\n",
       "    <tr>\n",
       "      <th>0</th>\n",
       "      <td>Shiv Singh</td>\n",
       "      <td>Petroleum Data Analyst</td>\n",
       "      <td>Kolkata, Delhi / NCR, Mumbai (All Areas)</td>\n",
       "    </tr>\n",
       "    <tr>\n",
       "      <th>1</th>\n",
       "      <td>Myntra</td>\n",
       "      <td>Associate - Data Analyst</td>\n",
       "      <td>Bangalore/Bengaluru</td>\n",
       "    </tr>\n",
       "    <tr>\n",
       "      <th>2</th>\n",
       "      <td>Capgemini</td>\n",
       "      <td>Data Analyst</td>\n",
       "      <td>Gurgaon/Gurugram</td>\n",
       "    </tr>\n",
       "    <tr>\n",
       "      <th>3</th>\n",
       "      <td>Condeco Software</td>\n",
       "      <td>Senior Data Analyst</td>\n",
       "      <td>Gurgaon/Gurugram</td>\n",
       "    </tr>\n",
       "    <tr>\n",
       "      <th>4</th>\n",
       "      <td>Wipro</td>\n",
       "      <td>Data Analyst</td>\n",
       "      <td>Noida, Hyderabad/Secunderabad, Gurgaon/Gurugra...</td>\n",
       "    </tr>\n",
       "    <tr>\n",
       "      <th>5</th>\n",
       "      <td>Optum</td>\n",
       "      <td>Associate Manager Data Analyst</td>\n",
       "      <td>Noida</td>\n",
       "    </tr>\n",
       "    <tr>\n",
       "      <th>6</th>\n",
       "      <td>CURise Analytics Pvt. Ltd.</td>\n",
       "      <td>Job opportunity For Data Analyst at Trellance ...</td>\n",
       "      <td>Ahmedabad, Bangalore/Bengaluru</td>\n",
       "    </tr>\n",
       "    <tr>\n",
       "      <th>7</th>\n",
       "      <td>Thomson Reuters</td>\n",
       "      <td>Sr Data Analyst</td>\n",
       "      <td>Bangalore/Bengaluru</td>\n",
       "    </tr>\n",
       "    <tr>\n",
       "      <th>8</th>\n",
       "      <td>Collabera</td>\n",
       "      <td>Sr.Business Data Analyst</td>\n",
       "      <td>Bangalore/Bengaluru, karnataka</td>\n",
       "    </tr>\n",
       "    <tr>\n",
       "      <th>9</th>\n",
       "      <td>Morningstar</td>\n",
       "      <td>Data research analyst</td>\n",
       "      <td>Mumbai</td>\n",
       "    </tr>\n",
       "  </tbody>\n",
       "</table>\n",
       "</div>"
      ],
      "text/plain": [
       "                    companies  \\\n",
       "0                  Shiv Singh   \n",
       "1                      Myntra   \n",
       "2                   Capgemini   \n",
       "3            Condeco Software   \n",
       "4                       Wipro   \n",
       "5                       Optum   \n",
       "6  CURise Analytics Pvt. Ltd.   \n",
       "7             Thomson Reuters   \n",
       "8                   Collabera   \n",
       "9                 Morningstar   \n",
       "\n",
       "                                          job_titles  \\\n",
       "0                             Petroleum Data Analyst   \n",
       "1                           Associate - Data Analyst   \n",
       "2                                       Data Analyst   \n",
       "3                                Senior Data Analyst   \n",
       "4                                       Data Analyst   \n",
       "5                     Associate Manager Data Analyst   \n",
       "6  Job opportunity For Data Analyst at Trellance ...   \n",
       "7                                    Sr Data Analyst   \n",
       "8                           Sr.Business Data Analyst   \n",
       "9                              Data research analyst   \n",
       "\n",
       "                                            location  \n",
       "0           Kolkata, Delhi / NCR, Mumbai (All Areas)  \n",
       "1                                Bangalore/Bengaluru  \n",
       "2                                   Gurgaon/Gurugram  \n",
       "3                                   Gurgaon/Gurugram  \n",
       "4  Noida, Hyderabad/Secunderabad, Gurgaon/Gurugra...  \n",
       "5                                              Noida  \n",
       "6                     Ahmedabad, Bangalore/Bengaluru  \n",
       "7                                Bangalore/Bengaluru  \n",
       "8                     Bangalore/Bengaluru, karnataka  \n",
       "9                                             Mumbai  "
      ]
     },
     "execution_count": 96,
     "metadata": {},
     "output_type": "execute_result"
    }
   ],
   "source": [
    "#creating  a Dataframe  here \n",
    "naukri_data_science=pd.DataFrame({})\n",
    "naukri_data_science['companies']=co_names\n",
    "naukri_data_science['job_titles']=job_title2\n",
    "naukri_data_science['location']=job_location\n",
    "naukri_data_science[0:10]"
   ]
  },
  {
   "cell_type": "markdown",
   "id": "1ac08d65",
   "metadata": {},
   "source": [
    "## Answer (3)You have to use the location and salary filter.You have to scrape data for “Data Scientist” designation for first 10 job results.You have to scrape the job-title, job-location, company name, experience required. The location filter to be used is “Delhi/NCR”. The salary filter to be used is “3-6” lakhs "
   ]
  },
  {
   "cell_type": "code",
   "execution_count": 126,
   "id": "8dc9e7d7",
   "metadata": {},
   "outputs": [],
   "source": [
    "#command for open  the  automation window of browser \n",
    "driver3 = webdriver.Chrome('chromedriver.exe')"
   ]
  },
  {
   "cell_type": "code",
   "execution_count": 127,
   "id": "5dc7e5b5",
   "metadata": {},
   "outputs": [],
   "source": [
    "#now  the automation page is opened now , we are opening  the required website page  in it \n",
    "driver3.get('https://www.naukri.com/')"
   ]
  },
  {
   "cell_type": "code",
   "execution_count": 128,
   "id": "85011359",
   "metadata": {},
   "outputs": [],
   "source": [
    "#now  checking   for  the position which is required  to search  here ex-data anlyst\n",
    "search_field_designation= driver3.find_element(By.CLASS_NAME,'suggestor-input')\n",
    "search_field_designation.send_keys('Data scientist')"
   ]
  },
  {
   "cell_type": "code",
   "execution_count": 129,
   "id": "1cb3f61f",
   "metadata": {},
   "outputs": [],
   "source": [
    "#now we will  find the  element  for  the search button,  to click and  search  for  the desired results \n",
    "\n",
    "search_button= driver3.find_element(\"xpath\",('/html/body/div/div[2]/div[3]/div/div/div[6]'))\n",
    "search_button.click()"
   ]
  },
  {
   "cell_type": "code",
   "execution_count": 155,
   "id": "d6e7ee1f",
   "metadata": {},
   "outputs": [],
   "source": [
    "#checking  the  checkbox \n",
    "loc_check_box = driver3.find_elements(\"xpath\",'//*[@id=\"root\"]/div[3]/div[2]/section[1]/div[2]/div[4]/div[2]/div[3]/label/p/span')\n",
    "sal_check_box = driver3.find_elements(\"xpath\",'//*[@id=\"root\"]/div[3]/div[2]/section[1]/div[2]/div[5]/div[2]/div[2]/label/i')"
   ]
  },
  {
   "cell_type": "code",
   "execution_count": 157,
   "id": "a3c7b751",
   "metadata": {},
   "outputs": [
    {
     "data": {
      "text/html": [
       "<div>\n",
       "<style scoped>\n",
       "    .dataframe tbody tr th:only-of-type {\n",
       "        vertical-align: middle;\n",
       "    }\n",
       "\n",
       "    .dataframe tbody tr th {\n",
       "        vertical-align: top;\n",
       "    }\n",
       "\n",
       "    .dataframe thead th {\n",
       "        text-align: right;\n",
       "    }\n",
       "</style>\n",
       "<table border=\"1\" class=\"dataframe\">\n",
       "  <thead>\n",
       "    <tr style=\"text-align: right;\">\n",
       "      <th></th>\n",
       "      <th>Job_Profile</th>\n",
       "      <th>Company</th>\n",
       "      <th>Experience</th>\n",
       "      <th>Salary</th>\n",
       "      <th>Location</th>\n",
       "    </tr>\n",
       "  </thead>\n",
       "  <tbody>\n",
       "    <tr>\n",
       "      <th>0</th>\n",
       "      <td>Urgent Job Opening For AI Practitioner - Data ...</td>\n",
       "      <td>Wipro</td>\n",
       "      <td>11-21 Yrs</td>\n",
       "      <td>Not disclosed</td>\n",
       "      <td>Bangalore/Bengaluru, Kochi/Cochin, New Delhi, ...</td>\n",
       "    </tr>\n",
       "    <tr>\n",
       "      <th>1</th>\n",
       "      <td>Hiring For Senior Data Scientist</td>\n",
       "      <td>TATA CONSULTANCY SERVICES (TCS)</td>\n",
       "      <td>8-13 Yrs</td>\n",
       "      <td>Not disclosed</td>\n",
       "      <td>Bangalore/Bengaluru, Pune</td>\n",
       "    </tr>\n",
       "    <tr>\n",
       "      <th>2</th>\n",
       "      <td>Dataiku Consultant</td>\n",
       "      <td>Wipro</td>\n",
       "      <td>10-16 Yrs</td>\n",
       "      <td>Not disclosed</td>\n",
       "      <td>Bangalore/Bengaluru, Pune, Chennai</td>\n",
       "    </tr>\n",
       "    <tr>\n",
       "      <th>3</th>\n",
       "      <td>Data Scientist</td>\n",
       "      <td>Applied Materials</td>\n",
       "      <td>4-7 Yrs</td>\n",
       "      <td>Not disclosed</td>\n",
       "      <td>Bangalore/Bengaluru</td>\n",
       "    </tr>\n",
       "    <tr>\n",
       "      <th>4</th>\n",
       "      <td>Data &amp; Analytics Tech - Informatica Cloud- Sen...</td>\n",
       "      <td>PwC</td>\n",
       "      <td>6-10 Yrs</td>\n",
       "      <td>Not disclosed</td>\n",
       "      <td>Bangalore/Bengaluru</td>\n",
       "    </tr>\n",
       "    <tr>\n",
       "      <th>5</th>\n",
       "      <td>Data Scientist: Advanced Analytics</td>\n",
       "      <td>IBM</td>\n",
       "      <td>2-7 Yrs</td>\n",
       "      <td>Not disclosed</td>\n",
       "      <td>Bangalore/Bengaluru</td>\n",
       "    </tr>\n",
       "    <tr>\n",
       "      <th>6</th>\n",
       "      <td>Research Scientist</td>\n",
       "      <td>IBM</td>\n",
       "      <td>3-7 Yrs</td>\n",
       "      <td>Not disclosed</td>\n",
       "      <td>Bangalore/Bengaluru</td>\n",
       "    </tr>\n",
       "    <tr>\n",
       "      <th>7</th>\n",
       "      <td>Principal - Data Scientist</td>\n",
       "      <td>Schneider Electric</td>\n",
       "      <td>7-10 Yrs</td>\n",
       "      <td>Not disclosed</td>\n",
       "      <td>Bangalore/Bengaluru</td>\n",
       "    </tr>\n",
       "    <tr>\n",
       "      <th>8</th>\n",
       "      <td>Research and Development -AI/ML -(PhD )</td>\n",
       "      <td>EXL</td>\n",
       "      <td>4-8 Yrs</td>\n",
       "      <td>Not disclosed</td>\n",
       "      <td>Bangalore/Bengaluru, Noida, Hyderabad/Secunder...</td>\n",
       "    </tr>\n",
       "    <tr>\n",
       "      <th>9</th>\n",
       "      <td>Data Science - Engineering Manager</td>\n",
       "      <td>Paytm</td>\n",
       "      <td>9-13 Yrs</td>\n",
       "      <td>Not disclosed</td>\n",
       "      <td>Bangalore/Bengaluru, Noida, Mumbai</td>\n",
       "    </tr>\n",
       "  </tbody>\n",
       "</table>\n",
       "</div>"
      ],
      "text/plain": [
       "                                         Job_Profile  \\\n",
       "0  Urgent Job Opening For AI Practitioner - Data ...   \n",
       "1                   Hiring For Senior Data Scientist   \n",
       "2                                 Dataiku Consultant   \n",
       "3                                     Data Scientist   \n",
       "4  Data & Analytics Tech - Informatica Cloud- Sen...   \n",
       "5                 Data Scientist: Advanced Analytics   \n",
       "6                                 Research Scientist   \n",
       "7                         Principal - Data Scientist   \n",
       "8            Research and Development -AI/ML -(PhD )   \n",
       "9                 Data Science - Engineering Manager   \n",
       "\n",
       "                           Company Experience         Salary  \\\n",
       "0                            Wipro  11-21 Yrs  Not disclosed   \n",
       "1  TATA CONSULTANCY SERVICES (TCS)   8-13 Yrs  Not disclosed   \n",
       "2                            Wipro  10-16 Yrs  Not disclosed   \n",
       "3                Applied Materials    4-7 Yrs  Not disclosed   \n",
       "4                              PwC   6-10 Yrs  Not disclosed   \n",
       "5                              IBM    2-7 Yrs  Not disclosed   \n",
       "6                              IBM    3-7 Yrs  Not disclosed   \n",
       "7               Schneider Electric   7-10 Yrs  Not disclosed   \n",
       "8                              EXL    4-8 Yrs  Not disclosed   \n",
       "9                            Paytm   9-13 Yrs  Not disclosed   \n",
       "\n",
       "                                            Location  \n",
       "0  Bangalore/Bengaluru, Kochi/Cochin, New Delhi, ...  \n",
       "1                          Bangalore/Bengaluru, Pune  \n",
       "2                 Bangalore/Bengaluru, Pune, Chennai  \n",
       "3                                Bangalore/Bengaluru  \n",
       "4                                Bangalore/Bengaluru  \n",
       "5                                Bangalore/Bengaluru  \n",
       "6                                Bangalore/Bengaluru  \n",
       "7                                Bangalore/Bengaluru  \n",
       "8  Bangalore/Bengaluru, Noida, Hyderabad/Secunder...  \n",
       "9                 Bangalore/Bengaluru, Noida, Mumbai  "
      ]
     },
     "execution_count": 157,
     "metadata": {},
     "output_type": "execute_result"
    }
   ],
   "source": [
    "#scraping  the job-titles\n",
    "#creating empty list  for  storage\n",
    "job_profiles = []\n",
    "companies = []\n",
    "experiences = []\n",
    "salaries = []\n",
    "locations = []\n",
    "\n",
    "job_profile=driver3.find_elements(\"xpath\",\"//*[@id='root']/div[3]/div[2]/section[2]/div[2]/article/div[1]/div/a\")[0:10]\n",
    "\n",
    "company=driver3.find_elements(\"xpath\",\"//*[@id='root']/div[3]/div[2]/section[2]/div[2]/article/div[1]/div/div/a[1]\")[0:10]\n",
    "\n",
    "experience=driver3.find_elements(\"xpath\",\"//*[@id='root']/div[3]/div[2]/section[2]/div[2]/article/div[1]/div/ul/li[1]\")[0:10]\n",
    "\n",
    "salary = driver3.find_elements(\"xpath\",\"//*[@id='root']/div[3]/div[2]/section[2]/div[2]/article/div[1]/div/ul/li[2]/span\")[0:10]\n",
    "\n",
    "location = driver3.find_elements(\"xpath\",\"//*[@id='root']/div[3]/div[2]/section[2]/div[2]/article/div[1]/div/ul/li[3]/span\")[0:10]\n",
    "#fetching  all  the  code  data  from  paths  as text  using multiple  for loops\n",
    "for job in job_profile:\n",
    "    job_profiles.append(job.text)   # for job-title\n",
    "    \n",
    "for comp in company:\n",
    "    companies.append(comp.text)   # for companies\n",
    "\n",
    "for exp in experience:\n",
    "    experiences.append(exp.text)  # for experiences\n",
    "    \n",
    "for sal in salary:\n",
    "    salaries.append(sal.text)  #  for salary\n",
    "    \n",
    "for loc in location:\n",
    "    locations.append(loc.text)  # for locations\n",
    "\n",
    "job_df=pd.DataFrame({'Job_Profile':job_profiles,\n",
    "                         'Company':companies,\n",
    "                         'Experience':experiences,\n",
    "                         'Salary':salaries,\n",
    "                         'Location':locations})\n",
    "job_df"
   ]
  },
  {
   "cell_type": "markdown",
   "id": "66e0b293",
   "metadata": {},
   "source": [
    "## Q4: Scrape data of first 100 sunglasses listings on flipkart.com. You have to scrape four attributes:1. Brand 2. Product Description 3. Price "
   ]
  },
  {
   "cell_type": "code",
   "execution_count": 160,
   "id": "164f7c9a",
   "metadata": {},
   "outputs": [],
   "source": [
    "#command  for  opening  the automation window \n",
    "driver4 = webdriver.Chrome('chromedriver.exe')"
   ]
  },
  {
   "cell_type": "code",
   "execution_count": 161,
   "id": "657339ce",
   "metadata": {},
   "outputs": [],
   "source": [
    "#now  the automation page is opened now , we are opening  the required website page  in it \n",
    "driver4.get('http://www.flipkart.com/')"
   ]
  },
  {
   "cell_type": "code",
   "execution_count": 168,
   "id": "14091a43",
   "metadata": {},
   "outputs": [],
   "source": [
    "#now  checking   for  the sunglasses @  flipkart search box\n",
    "search_field_designation= driver4.find_elements(\"xpath\",'//*[@id=\"container\"]/div/div[1]/div[1]/div[2]/div[2]/form/div/div/input')\n"
   ]
  },
  {
   "cell_type": "code",
   "execution_count": 169,
   "id": "30e31cf9",
   "metadata": {},
   "outputs": [],
   "source": [
    "search_product=driver4.find_element(By.CLASS_NAME,'_3704LK').send_keys(\"Sunglasses\")"
   ]
  },
  {
   "cell_type": "code",
   "execution_count": 170,
   "id": "ffa602b2",
   "metadata": {},
   "outputs": [],
   "source": [
    "search_button4= driver4.find_element(By.CLASS_NAME,'L0Z3Pu').click()"
   ]
  },
  {
   "cell_type": "code",
   "execution_count": 171,
   "id": "da9de4fa",
   "metadata": {},
   "outputs": [],
   "source": [
    "brand=driver4.find_elements(\"xpath\",'//div[@class=\"_2WkVRV\"]')\n",
    "brand_name=[]\n",
    "for i in brand:\n",
    "    brand_name.append(i.text)"
   ]
  },
  {
   "cell_type": "code",
   "execution_count": 172,
   "id": "95e26b3c",
   "metadata": {},
   "outputs": [],
   "source": [
    "product=driver4.find_elements(\"xpath\",'//a[@class=\"IRpwTa\"]')\n",
    "product_desc=[]\n",
    "for i in product:\n",
    "    product_desc.append(i.text)"
   ]
  },
  {
   "cell_type": "code",
   "execution_count": 173,
   "id": "97998dff",
   "metadata": {},
   "outputs": [],
   "source": [
    "price=driver4.find_elements(\"xpath\",'//div[@class=\"_30jeq3\"]')\n",
    "product_price=[]\n",
    "for i in price:\n",
    "    product_price.append(i.text)"
   ]
  },
  {
   "cell_type": "code",
   "execution_count": 174,
   "id": "4d14f513",
   "metadata": {},
   "outputs": [],
   "source": [
    "price_off=driver4.find_elements(\"xpath\",'//div[@class=\"_3Ay6Sb\"]')\n",
    "Discount=[]\n",
    "for i in price_off:\n",
    "    Discount.append(i.text)"
   ]
  },
  {
   "cell_type": "code",
   "execution_count": 175,
   "id": "59b0f586",
   "metadata": {},
   "outputs": [
    {
     "data": {
      "text/html": [
       "<div>\n",
       "<style scoped>\n",
       "    .dataframe tbody tr th:only-of-type {\n",
       "        vertical-align: middle;\n",
       "    }\n",
       "\n",
       "    .dataframe tbody tr th {\n",
       "        vertical-align: top;\n",
       "    }\n",
       "\n",
       "    .dataframe thead th {\n",
       "        text-align: right;\n",
       "    }\n",
       "</style>\n",
       "<table border=\"1\" class=\"dataframe\">\n",
       "  <thead>\n",
       "    <tr style=\"text-align: right;\">\n",
       "      <th></th>\n",
       "      <th>Brand Name</th>\n",
       "      <th>Product Description</th>\n",
       "      <th>Price</th>\n",
       "      <th>Discount</th>\n",
       "    </tr>\n",
       "  </thead>\n",
       "  <tbody>\n",
       "    <tr>\n",
       "      <th>0</th>\n",
       "      <td>ROZZETTA CRAFT</td>\n",
       "      <td>UV Protection, Gradient Round Sunglasses (Free...</td>\n",
       "      <td>₹379</td>\n",
       "      <td>81% off</td>\n",
       "    </tr>\n",
       "    <tr>\n",
       "      <th>1</th>\n",
       "      <td>VINCENT CHASE</td>\n",
       "      <td>by Lenskart UV Protection Wayfarer Sunglasses ...</td>\n",
       "      <td>₹749</td>\n",
       "      <td>62% off</td>\n",
       "    </tr>\n",
       "    <tr>\n",
       "      <th>2</th>\n",
       "      <td>DAHAAZIL</td>\n",
       "      <td>UV Protection, Night Vision, Riding Glasses Wa...</td>\n",
       "      <td>₹177</td>\n",
       "      <td>82% off</td>\n",
       "    </tr>\n",
       "    <tr>\n",
       "      <th>3</th>\n",
       "      <td>Fastrack</td>\n",
       "      <td>UV Protection Rectangular Sunglasses (Free Size)</td>\n",
       "      <td>₹639</td>\n",
       "      <td>20% off</td>\n",
       "    </tr>\n",
       "    <tr>\n",
       "      <th>4</th>\n",
       "      <td>Elligator</td>\n",
       "      <td>UV Protection Round Sunglasses (54)</td>\n",
       "      <td>₹315</td>\n",
       "      <td>87% off</td>\n",
       "    </tr>\n",
       "    <tr>\n",
       "      <th>5</th>\n",
       "      <td>SUNBEE</td>\n",
       "      <td>UV Protection, Polarized, Mirrored Retro Squar...</td>\n",
       "      <td>₹259</td>\n",
       "      <td>80% off</td>\n",
       "    </tr>\n",
       "    <tr>\n",
       "      <th>6</th>\n",
       "      <td>New Specs</td>\n",
       "      <td>UV Protection Rectangular Sunglasses (Free Size)</td>\n",
       "      <td>₹265</td>\n",
       "      <td>86% off</td>\n",
       "    </tr>\n",
       "    <tr>\n",
       "      <th>7</th>\n",
       "      <td>povty</td>\n",
       "      <td>UV Protection Retro Square Sunglasses (Free Size)</td>\n",
       "      <td>₹319</td>\n",
       "      <td>68% off</td>\n",
       "    </tr>\n",
       "    <tr>\n",
       "      <th>8</th>\n",
       "      <td>Fastrack</td>\n",
       "      <td>UV Protection Aviator Sunglasses (Free Size)</td>\n",
       "      <td>₹639</td>\n",
       "      <td>20% off</td>\n",
       "    </tr>\n",
       "    <tr>\n",
       "      <th>9</th>\n",
       "      <td>SUNBEE</td>\n",
       "      <td>UV Protection, Polarized Wayfarer Sunglasses (...</td>\n",
       "      <td>₹283</td>\n",
       "      <td>78% off</td>\n",
       "    </tr>\n",
       "    <tr>\n",
       "      <th>10</th>\n",
       "      <td>Fastrack</td>\n",
       "      <td>UV Protection Wayfarer Sunglasses (Free Size)</td>\n",
       "      <td>₹799</td>\n",
       "      <td>20% off</td>\n",
       "    </tr>\n",
       "    <tr>\n",
       "      <th>11</th>\n",
       "      <td>ROYAL SON</td>\n",
       "      <td>UV Protection Retro Square Sunglasses (55)</td>\n",
       "      <td>₹616</td>\n",
       "      <td>69% off</td>\n",
       "    </tr>\n",
       "    <tr>\n",
       "      <th>12</th>\n",
       "      <td>PIRASO</td>\n",
       "      <td>UV Protection Aviator Sunglasses (54)</td>\n",
       "      <td>₹224</td>\n",
       "      <td>85% off</td>\n",
       "    </tr>\n",
       "    <tr>\n",
       "      <th>13</th>\n",
       "      <td>SHAAH COLLECTIONS</td>\n",
       "      <td>UV Protection, Polarized, Mirrored Rectangular...</td>\n",
       "      <td>₹195</td>\n",
       "      <td>88% off</td>\n",
       "    </tr>\n",
       "    <tr>\n",
       "      <th>14</th>\n",
       "      <td>PIRASO</td>\n",
       "      <td>UV Protection Aviator Sunglasses (54)</td>\n",
       "      <td>₹224</td>\n",
       "      <td>85% off</td>\n",
       "    </tr>\n",
       "    <tr>\n",
       "      <th>15</th>\n",
       "      <td>GANSTA</td>\n",
       "      <td>UV Protection Aviator Sunglasses (57)</td>\n",
       "      <td>₹314</td>\n",
       "      <td>84% off</td>\n",
       "    </tr>\n",
       "    <tr>\n",
       "      <th>16</th>\n",
       "      <td>SRPM</td>\n",
       "      <td>UV Protection Wayfarer Sunglasses (50)</td>\n",
       "      <td>₹224</td>\n",
       "      <td>82% off</td>\n",
       "    </tr>\n",
       "    <tr>\n",
       "      <th>17</th>\n",
       "      <td>PIRASO</td>\n",
       "      <td>UV Protection Retro Square Sunglasses (52)</td>\n",
       "      <td>₹306</td>\n",
       "      <td>88% off</td>\n",
       "    </tr>\n",
       "    <tr>\n",
       "      <th>18</th>\n",
       "      <td>PIRASO</td>\n",
       "      <td>UV Protection Aviator Sunglasses (58)</td>\n",
       "      <td>₹359</td>\n",
       "      <td>86% off</td>\n",
       "    </tr>\n",
       "    <tr>\n",
       "      <th>19</th>\n",
       "      <td>Arnette</td>\n",
       "      <td>Others Oval Sunglasses (53)</td>\n",
       "      <td>₹5,749</td>\n",
       "      <td>10% off</td>\n",
       "    </tr>\n",
       "    <tr>\n",
       "      <th>20</th>\n",
       "      <td>ROZZETTA CRAFT</td>\n",
       "      <td>UV Protection, Gradient Retro Square Sunglasse...</td>\n",
       "      <td>₹331</td>\n",
       "      <td>83% off</td>\n",
       "    </tr>\n",
       "    <tr>\n",
       "      <th>21</th>\n",
       "      <td>VINCENT CHASE</td>\n",
       "      <td>by Lenskart Polarized, UV Protection Wayfarer ...</td>\n",
       "      <td>₹749</td>\n",
       "      <td>70% off</td>\n",
       "    </tr>\n",
       "    <tr>\n",
       "      <th>22</th>\n",
       "      <td>Fastrack</td>\n",
       "      <td>Gradient, UV Protection Wayfarer Sunglasses (F...</td>\n",
       "      <td>₹719</td>\n",
       "      <td>20% off</td>\n",
       "    </tr>\n",
       "    <tr>\n",
       "      <th>23</th>\n",
       "      <td>ROYAL SON</td>\n",
       "      <td>Polarized, UV Protection Wrap-around Sunglasse...</td>\n",
       "      <td>₹759</td>\n",
       "      <td>62% off</td>\n",
       "    </tr>\n",
       "    <tr>\n",
       "      <th>24</th>\n",
       "      <td>PIRASO</td>\n",
       "      <td>UV Protection Aviator Sunglasses (54)</td>\n",
       "      <td>₹246</td>\n",
       "      <td>84% off</td>\n",
       "    </tr>\n",
       "    <tr>\n",
       "      <th>25</th>\n",
       "      <td>PIRASO</td>\n",
       "      <td>UV Protection Over-sized Sunglasses (65)</td>\n",
       "      <td>₹410</td>\n",
       "      <td>84% off</td>\n",
       "    </tr>\n",
       "    <tr>\n",
       "      <th>26</th>\n",
       "      <td>Fastrack</td>\n",
       "      <td>Gradient, UV Protection Wayfarer Sunglasses (F...</td>\n",
       "      <td>₹719</td>\n",
       "      <td>20% off</td>\n",
       "    </tr>\n",
       "    <tr>\n",
       "      <th>27</th>\n",
       "      <td>john jacobs</td>\n",
       "      <td>UV Protection Wayfarer Sunglasses (46)</td>\n",
       "      <td>₹3,000</td>\n",
       "      <td>50% off</td>\n",
       "    </tr>\n",
       "    <tr>\n",
       "      <th>28</th>\n",
       "      <td>PIRASO</td>\n",
       "      <td>UV Protection Wayfarer Sunglasses (32)</td>\n",
       "      <td>₹226</td>\n",
       "      <td>85% off</td>\n",
       "    </tr>\n",
       "    <tr>\n",
       "      <th>29</th>\n",
       "      <td>Lee Topper</td>\n",
       "      <td>UV Protection Cat-eye Sunglasses (Free Size)</td>\n",
       "      <td>₹229</td>\n",
       "      <td>82% off</td>\n",
       "    </tr>\n",
       "    <tr>\n",
       "      <th>30</th>\n",
       "      <td>SHAAH COLLECTIONS</td>\n",
       "      <td>UV Protection Round Sunglasses (Free Size)</td>\n",
       "      <td>₹279</td>\n",
       "      <td>78% off</td>\n",
       "    </tr>\n",
       "    <tr>\n",
       "      <th>31</th>\n",
       "      <td>hipe</td>\n",
       "      <td>Mirrored Wayfarer Sunglasses (55)</td>\n",
       "      <td>₹233</td>\n",
       "      <td>76% off</td>\n",
       "    </tr>\n",
       "    <tr>\n",
       "      <th>32</th>\n",
       "      <td>Fastrack</td>\n",
       "      <td>UV Protection Aviator Sunglasses (58)</td>\n",
       "      <td>₹1,039</td>\n",
       "      <td>20% off</td>\n",
       "    </tr>\n",
       "    <tr>\n",
       "      <th>33</th>\n",
       "      <td>ROZZETTA CRAFT</td>\n",
       "      <td>Polarized, Riding Glasses Sports, Wrap-around ...</td>\n",
       "      <td>₹474</td>\n",
       "      <td>76% off</td>\n",
       "    </tr>\n",
       "    <tr>\n",
       "      <th>34</th>\n",
       "      <td>NuVew</td>\n",
       "      <td>UV Protection Sports Sunglasses (62)</td>\n",
       "      <td>₹291</td>\n",
       "      <td>76% off</td>\n",
       "    </tr>\n",
       "    <tr>\n",
       "      <th>35</th>\n",
       "      <td>VINCENT CHASE</td>\n",
       "      <td>by Lenskart Polarized, UV Protection Round Sun...</td>\n",
       "      <td>₹949</td>\n",
       "      <td>52% off</td>\n",
       "    </tr>\n",
       "    <tr>\n",
       "      <th>36</th>\n",
       "      <td>kingsunglasses</td>\n",
       "      <td>UV Protection, Riding Glasses, Mirrored Wayfar...</td>\n",
       "      <td>₹164</td>\n",
       "      <td>86% off</td>\n",
       "    </tr>\n",
       "    <tr>\n",
       "      <th>37</th>\n",
       "      <td>CRYSTAL CART</td>\n",
       "      <td>Mirrored, Night Vision Oval Sunglasses (Free S...</td>\n",
       "      <td>₹189</td>\n",
       "      <td>68% off</td>\n",
       "    </tr>\n",
       "    <tr>\n",
       "      <th>38</th>\n",
       "      <td>Lee Topper</td>\n",
       "      <td>Riding Glasses Wrap-around Sunglasses (Free Size)</td>\n",
       "      <td>₹299</td>\n",
       "      <td>88% off</td>\n",
       "    </tr>\n",
       "    <tr>\n",
       "      <th>39</th>\n",
       "      <td>ROYAL SON</td>\n",
       "      <td>UV Protection Over-sized Sunglasses (61)</td>\n",
       "      <td>₹699</td>\n",
       "      <td>65% off</td>\n",
       "    </tr>\n",
       "  </tbody>\n",
       "</table>\n",
       "</div>"
      ],
      "text/plain": [
       "           Brand Name                                Product Description  \\\n",
       "0      ROZZETTA CRAFT  UV Protection, Gradient Round Sunglasses (Free...   \n",
       "1       VINCENT CHASE  by Lenskart UV Protection Wayfarer Sunglasses ...   \n",
       "2            DAHAAZIL  UV Protection, Night Vision, Riding Glasses Wa...   \n",
       "3            Fastrack   UV Protection Rectangular Sunglasses (Free Size)   \n",
       "4           Elligator                UV Protection Round Sunglasses (54)   \n",
       "5              SUNBEE  UV Protection, Polarized, Mirrored Retro Squar...   \n",
       "6           New Specs   UV Protection Rectangular Sunglasses (Free Size)   \n",
       "7               povty  UV Protection Retro Square Sunglasses (Free Size)   \n",
       "8            Fastrack       UV Protection Aviator Sunglasses (Free Size)   \n",
       "9              SUNBEE  UV Protection, Polarized Wayfarer Sunglasses (...   \n",
       "10           Fastrack      UV Protection Wayfarer Sunglasses (Free Size)   \n",
       "11          ROYAL SON         UV Protection Retro Square Sunglasses (55)   \n",
       "12             PIRASO              UV Protection Aviator Sunglasses (54)   \n",
       "13  SHAAH COLLECTIONS  UV Protection, Polarized, Mirrored Rectangular...   \n",
       "14             PIRASO              UV Protection Aviator Sunglasses (54)   \n",
       "15             GANSTA              UV Protection Aviator Sunglasses (57)   \n",
       "16               SRPM             UV Protection Wayfarer Sunglasses (50)   \n",
       "17             PIRASO         UV Protection Retro Square Sunglasses (52)   \n",
       "18             PIRASO              UV Protection Aviator Sunglasses (58)   \n",
       "19            Arnette                        Others Oval Sunglasses (53)   \n",
       "20     ROZZETTA CRAFT  UV Protection, Gradient Retro Square Sunglasse...   \n",
       "21      VINCENT CHASE  by Lenskart Polarized, UV Protection Wayfarer ...   \n",
       "22           Fastrack  Gradient, UV Protection Wayfarer Sunglasses (F...   \n",
       "23          ROYAL SON  Polarized, UV Protection Wrap-around Sunglasse...   \n",
       "24             PIRASO              UV Protection Aviator Sunglasses (54)   \n",
       "25             PIRASO           UV Protection Over-sized Sunglasses (65)   \n",
       "26           Fastrack  Gradient, UV Protection Wayfarer Sunglasses (F...   \n",
       "27        john jacobs             UV Protection Wayfarer Sunglasses (46)   \n",
       "28             PIRASO             UV Protection Wayfarer Sunglasses (32)   \n",
       "29         Lee Topper       UV Protection Cat-eye Sunglasses (Free Size)   \n",
       "30  SHAAH COLLECTIONS         UV Protection Round Sunglasses (Free Size)   \n",
       "31               hipe                  Mirrored Wayfarer Sunglasses (55)   \n",
       "32           Fastrack              UV Protection Aviator Sunglasses (58)   \n",
       "33     ROZZETTA CRAFT  Polarized, Riding Glasses Sports, Wrap-around ...   \n",
       "34              NuVew               UV Protection Sports Sunglasses (62)   \n",
       "35      VINCENT CHASE  by Lenskart Polarized, UV Protection Round Sun...   \n",
       "36     kingsunglasses  UV Protection, Riding Glasses, Mirrored Wayfar...   \n",
       "37       CRYSTAL CART  Mirrored, Night Vision Oval Sunglasses (Free S...   \n",
       "38         Lee Topper  Riding Glasses Wrap-around Sunglasses (Free Size)   \n",
       "39          ROYAL SON           UV Protection Over-sized Sunglasses (61)   \n",
       "\n",
       "     Price Discount  \n",
       "0     ₹379  81% off  \n",
       "1     ₹749  62% off  \n",
       "2     ₹177  82% off  \n",
       "3     ₹639  20% off  \n",
       "4     ₹315  87% off  \n",
       "5     ₹259  80% off  \n",
       "6     ₹265  86% off  \n",
       "7     ₹319  68% off  \n",
       "8     ₹639  20% off  \n",
       "9     ₹283  78% off  \n",
       "10    ₹799  20% off  \n",
       "11    ₹616  69% off  \n",
       "12    ₹224  85% off  \n",
       "13    ₹195  88% off  \n",
       "14    ₹224  85% off  \n",
       "15    ₹314  84% off  \n",
       "16    ₹224  82% off  \n",
       "17    ₹306  88% off  \n",
       "18    ₹359  86% off  \n",
       "19  ₹5,749  10% off  \n",
       "20    ₹331  83% off  \n",
       "21    ₹749  70% off  \n",
       "22    ₹719  20% off  \n",
       "23    ₹759  62% off  \n",
       "24    ₹246  84% off  \n",
       "25    ₹410  84% off  \n",
       "26    ₹719  20% off  \n",
       "27  ₹3,000  50% off  \n",
       "28    ₹226  85% off  \n",
       "29    ₹229  82% off  \n",
       "30    ₹279  78% off  \n",
       "31    ₹233  76% off  \n",
       "32  ₹1,039  20% off  \n",
       "33    ₹474  76% off  \n",
       "34    ₹291  76% off  \n",
       "35    ₹949  52% off  \n",
       "36    ₹164  86% off  \n",
       "37    ₹189  68% off  \n",
       "38    ₹299  88% off  \n",
       "39    ₹699  65% off  "
      ]
     },
     "execution_count": 175,
     "metadata": {},
     "output_type": "execute_result"
    }
   ],
   "source": [
    "product_1=pd.DataFrame({'Brand Name':brand_name,'Product Description':product_desc,'Price':product_price,'Discount':Discount})\n",
    "product_1[:40]"
   ]
  },
  {
   "cell_type": "code",
   "execution_count": 176,
   "id": "0199587a",
   "metadata": {},
   "outputs": [],
   "source": [
    "page_2=driver4.find_element(\"xpath\",'//a[@class=\"_1LKTO3\"]').click()"
   ]
  },
  {
   "cell_type": "code",
   "execution_count": 177,
   "id": "216f0557",
   "metadata": {},
   "outputs": [],
   "source": [
    "\n",
    "brand=driver4.find_elements(\"xpath\",'//div[@class=\"_2WkVRV\"]')\n",
    "brand_name=[]\n",
    "for i in brand:\n",
    "    brand_name.append(i.text)\n",
    "\n",
    "product=driver4.find_elements(\"xpath\",'//a[@class=\"IRpwTa\"]')\n",
    "product_desc=[]\n",
    "for i in product:\n",
    "    product_desc.append(i.text)\n",
    "\n",
    "price=driver4.find_elements(\"xpath\",'//div[@class=\"_30jeq3\"]')\n",
    "product_price=[]\n",
    "for i in price:\n",
    "    product_price.append(i.text)\n",
    "    \n",
    "price_off=driver4.find_elements(\"xpath\",'//div[@class=\"_3Ay6Sb\"]')\n",
    "Discount=[]\n",
    "for i in price_off:\n",
    "    Discount.append(i.text)\n",
    "    \n",
    "product_2=pd.DataFrame({'Brand Name':brand_name[:40],'Product Description':product_desc[:40],'Price':product_price[:40],'Discount':Discount[:40]})"
   ]
  },
  {
   "cell_type": "code",
   "execution_count": 178,
   "id": "9195ece5",
   "metadata": {},
   "outputs": [],
   "source": [
    "page_3=driver4.find_element(\"xpath\",'//a[@class=\"_1LKTO3\"]').click()"
   ]
  },
  {
   "cell_type": "code",
   "execution_count": 179,
   "id": "2311c1d9",
   "metadata": {},
   "outputs": [],
   "source": [
    "brand=driver4.find_elements(\"xpath\",'//div[@class=\"_2WkVRV\"]')\n",
    "brand_name=[]\n",
    "for i in brand:\n",
    "    brand_name.append(i.text)\n",
    "    \n",
    "product=driver4.find_elements(\"xpath\",'//a[@class=\"IRpwTa\"]')\n",
    "product_desc=[]\n",
    "for i in product:\n",
    "    product_desc.append(i.text)\n",
    "    \n",
    "price=driver4.find_elements(\"xpath\",'//div[@class=\"_30jeq3\"]')\n",
    "product_price=[]\n",
    "for i in price:\n",
    "    product_price.append(i.text)\n",
    "    \n",
    "price_off=driver4.find_elements(\"xpath\",'//div[@class=\"_3Ay6Sb\"]')\n",
    "Discount=[]\n",
    "for i in price_off:\n",
    "    Discount.append(i.text)\n",
    "    \n",
    "product_3=pd.DataFrame({'Brand Name':brand_name[:40],'Product Description':product_desc[:40],'Price':product_price[:40],'Discount':Discount[:40]})"
   ]
  },
  {
   "cell_type": "code",
   "execution_count": 180,
   "id": "b0372f05",
   "metadata": {},
   "outputs": [],
   "source": [
    "page_4=driver4.find_element(\"xpath\",'//a[@class=\"_1LKTO3\"]').click()"
   ]
  },
  {
   "cell_type": "code",
   "execution_count": 181,
   "id": "2bbeb900",
   "metadata": {},
   "outputs": [],
   "source": [
    "brand=driver4.find_elements(\"xpath\",'//div[@class=\"_2WkVRV\"]')\n",
    "brand_name=[]\n",
    "for i in brand:\n",
    "    brand_name.append(i.text)\n",
    "    \n",
    "product=driver4.find_elements(\"xpath\",'//a[@class=\"IRpwTa\"]')\n",
    "product_desc=[]\n",
    "for i in product:\n",
    "    product_desc.append(i.text)\n",
    "    \n",
    "price=driver4.find_elements(\"xpath\",'//div[@class=\"_30jeq3\"]')\n",
    "product_price=[]\n",
    "for i in price:\n",
    "    product_price.append(i.text)\n",
    "    \n",
    "price_off=driver4.find_elements(\"xpath\",'//div[@class=\"_3Ay6Sb\"]')\n",
    "Discount=[]\n",
    "for i in price_off:\n",
    "    Discount.append(i.text)\n",
    "    \n",
    "product_4=pd.DataFrame({'Brand Name':brand_name[:40],'Product Description':product_desc[:40],'Price':product_price[:40],'Discount':Discount[:40]})"
   ]
  },
  {
   "cell_type": "code",
   "execution_count": 182,
   "id": "5768f3a2",
   "metadata": {},
   "outputs": [
    {
     "data": {
      "text/html": [
       "<div>\n",
       "<style scoped>\n",
       "    .dataframe tbody tr th:only-of-type {\n",
       "        vertical-align: middle;\n",
       "    }\n",
       "\n",
       "    .dataframe tbody tr th {\n",
       "        vertical-align: top;\n",
       "    }\n",
       "\n",
       "    .dataframe thead th {\n",
       "        text-align: right;\n",
       "    }\n",
       "</style>\n",
       "<table border=\"1\" class=\"dataframe\">\n",
       "  <thead>\n",
       "    <tr style=\"text-align: right;\">\n",
       "      <th></th>\n",
       "      <th>Brand Name</th>\n",
       "      <th>Product Description</th>\n",
       "      <th>Price</th>\n",
       "      <th>Discount</th>\n",
       "    </tr>\n",
       "  </thead>\n",
       "  <tbody>\n",
       "    <tr>\n",
       "      <th>0</th>\n",
       "      <td>ROZZETTA CRAFT</td>\n",
       "      <td>UV Protection, Gradient Round Sunglasses (Free...</td>\n",
       "      <td>₹379</td>\n",
       "      <td>81% off</td>\n",
       "    </tr>\n",
       "    <tr>\n",
       "      <th>1</th>\n",
       "      <td>VINCENT CHASE</td>\n",
       "      <td>by Lenskart UV Protection Wayfarer Sunglasses ...</td>\n",
       "      <td>₹749</td>\n",
       "      <td>62% off</td>\n",
       "    </tr>\n",
       "    <tr>\n",
       "      <th>2</th>\n",
       "      <td>DAHAAZIL</td>\n",
       "      <td>UV Protection, Night Vision, Riding Glasses Wa...</td>\n",
       "      <td>₹177</td>\n",
       "      <td>82% off</td>\n",
       "    </tr>\n",
       "    <tr>\n",
       "      <th>3</th>\n",
       "      <td>Fastrack</td>\n",
       "      <td>UV Protection Rectangular Sunglasses (Free Size)</td>\n",
       "      <td>₹639</td>\n",
       "      <td>20% off</td>\n",
       "    </tr>\n",
       "    <tr>\n",
       "      <th>4</th>\n",
       "      <td>Elligator</td>\n",
       "      <td>UV Protection Round Sunglasses (54)</td>\n",
       "      <td>₹315</td>\n",
       "      <td>87% off</td>\n",
       "    </tr>\n",
       "    <tr>\n",
       "      <th>...</th>\n",
       "      <td>...</td>\n",
       "      <td>...</td>\n",
       "      <td>...</td>\n",
       "      <td>...</td>\n",
       "    </tr>\n",
       "    <tr>\n",
       "      <th>95</th>\n",
       "      <td>Arnette</td>\n",
       "      <td>Others Oval Sunglasses (53)</td>\n",
       "      <td>₹5,749</td>\n",
       "      <td>10% off</td>\n",
       "    </tr>\n",
       "    <tr>\n",
       "      <th>96</th>\n",
       "      <td>SRPM</td>\n",
       "      <td>UV Protection Wayfarer Sunglasses (50)</td>\n",
       "      <td>₹224</td>\n",
       "      <td>82% off</td>\n",
       "    </tr>\n",
       "    <tr>\n",
       "      <th>97</th>\n",
       "      <td>PIRASO</td>\n",
       "      <td>UV Protection Retro Square Sunglasses (52)</td>\n",
       "      <td>₹306</td>\n",
       "      <td>88% off</td>\n",
       "    </tr>\n",
       "    <tr>\n",
       "      <th>98</th>\n",
       "      <td>PIRASO</td>\n",
       "      <td>UV Protection Aviator Sunglasses (58)</td>\n",
       "      <td>₹359</td>\n",
       "      <td>86% off</td>\n",
       "    </tr>\n",
       "    <tr>\n",
       "      <th>99</th>\n",
       "      <td>ROYAL SON</td>\n",
       "      <td>Polarized, UV Protection Wrap-around Sunglasse...</td>\n",
       "      <td>₹759</td>\n",
       "      <td>62% off</td>\n",
       "    </tr>\n",
       "  </tbody>\n",
       "</table>\n",
       "<p>100 rows × 4 columns</p>\n",
       "</div>"
      ],
      "text/plain": [
       "        Brand Name                                Product Description   Price  \\\n",
       "0   ROZZETTA CRAFT  UV Protection, Gradient Round Sunglasses (Free...    ₹379   \n",
       "1    VINCENT CHASE  by Lenskart UV Protection Wayfarer Sunglasses ...    ₹749   \n",
       "2         DAHAAZIL  UV Protection, Night Vision, Riding Glasses Wa...    ₹177   \n",
       "3         Fastrack   UV Protection Rectangular Sunglasses (Free Size)    ₹639   \n",
       "4        Elligator                UV Protection Round Sunglasses (54)    ₹315   \n",
       "..             ...                                                ...     ...   \n",
       "95         Arnette                        Others Oval Sunglasses (53)  ₹5,749   \n",
       "96            SRPM             UV Protection Wayfarer Sunglasses (50)    ₹224   \n",
       "97          PIRASO         UV Protection Retro Square Sunglasses (52)    ₹306   \n",
       "98          PIRASO              UV Protection Aviator Sunglasses (58)    ₹359   \n",
       "99       ROYAL SON  Polarized, UV Protection Wrap-around Sunglasse...    ₹759   \n",
       "\n",
       "   Discount  \n",
       "0   81% off  \n",
       "1   62% off  \n",
       "2   82% off  \n",
       "3   20% off  \n",
       "4   87% off  \n",
       "..      ...  \n",
       "95  10% off  \n",
       "96  82% off  \n",
       "97  88% off  \n",
       "98  86% off  \n",
       "99  62% off  \n",
       "\n",
       "[100 rows x 4 columns]"
      ]
     },
     "execution_count": 182,
     "metadata": {},
     "output_type": "execute_result"
    }
   ],
   "source": [
    "product=pd.concat([product_1,product_2,product_3], ignore_index=True)\n",
    "product[:100]"
   ]
  },
  {
   "cell_type": "markdown",
   "id": "676d3691",
   "metadata": {},
   "source": [
    "## Q5: Scrape 100 reviews data from flipkart.com for iphone11 phone.\n",
    "### This task will be done in following steps:\n",
    "### 1. First get the webpage https://www.flipkart.com/\n",
    "### 2. Enter “iphone 11” in “Search” field . \n",
    "### 3. Then click the search button."
   ]
  },
  {
   "cell_type": "code",
   "execution_count": 188,
   "id": "f76f6985",
   "metadata": {},
   "outputs": [],
   "source": [
    "driver5 = webdriver.Chrome('chromedriver.exe')\n",
    "# opening the  automation window  now "
   ]
  },
  {
   "cell_type": "code",
   "execution_count": 189,
   "id": "8632b9d4",
   "metadata": {},
   "outputs": [],
   "source": [
    "driver5.get('https://www.flipkart.com/apple-iphone-11-black-64-gb-includes-earpods-power-adapter/p/itm0f37c2240b217?pid=MOBFKCTSVZAXUHGR&lid=LSTMOBFKCTSVZAXUHGREPBFGI&marketplace')\n"
   ]
  },
  {
   "cell_type": "code",
   "execution_count": 192,
   "id": "824214be",
   "metadata": {},
   "outputs": [],
   "source": [
    "#for  showing  all  the  elements  or for  expanding  the neccessary elements \n",
    "show_all_review_button = driver5.find_elements(\"xpath\",'//*[@id=\"container\"]/div/div[3]/div[1]/div[2]/div[9]/div/div/div[5]/div/a/div')"
   ]
  },
  {
   "cell_type": "code",
   "execution_count": 193,
   "id": "ce470196",
   "metadata": {},
   "outputs": [],
   "source": [
    "search_button5= driver5.find_element(By.CLASS_NAME,'L0Z3Pu').click()"
   ]
  },
  {
   "cell_type": "code",
   "execution_count": 194,
   "id": "6f661b44",
   "metadata": {},
   "outputs": [],
   "source": [
    "All_reviews=driver5.find_element(\"xpath\",'//div[@class=\"_3UAT2v _16PBlm\"]').click()"
   ]
  },
  {
   "cell_type": "code",
   "execution_count": 195,
   "id": "5d40f048",
   "metadata": {},
   "outputs": [],
   "source": [
    "rating_tag1=driver5.find_elements(\"xpath\",'//div[@class=\"_3LWZlK _1BLPMq\"]')\n",
    "rating1=[]\n",
    "for i in rating_tag1:\n",
    "    rating1.append(i.text)\n",
    "\n",
    "review_sum1=driver5.find_elements(\"xpath\",'//p[@class=\"_2-N8zT\"]')\n",
    "review1=[]\n",
    "for i in review_sum1:\n",
    "    review1.append(i.text)\n",
    "\n",
    "review_full1=driver5.find_elements(\"xpath\",'//div[@class=\"t-ZTKy\"]')\n",
    "full_review1=[]\n",
    "for i in review_full1:\n",
    "    full_review1.append(i.text.replace('\\n',' , '))\n",
    "\n",
    "iphone11_reviews1=pd.DataFrame({'Rating':rating1,'Review Summary':review1,'Full Review':full_review1})"
   ]
  },
  {
   "cell_type": "code",
   "execution_count": 196,
   "id": "9fb3b98f",
   "metadata": {},
   "outputs": [],
   "source": [
    "next_2=driver5.find_element(\"xpath\",'//a[@class=\"_1LKTO3\"]').click()\n"
   ]
  },
  {
   "cell_type": "code",
   "execution_count": 197,
   "id": "fa8147fe",
   "metadata": {},
   "outputs": [],
   "source": [
    "rating_tag2=driver5.find_elements(\"xpath\",'//div[@class=\"_3LWZlK _1BLPMq\"]')\n",
    "rating2=[]\n",
    "for i in rating_tag2:\n",
    "    rating2.append(i.text)\n",
    "\n",
    "review_sum2=driver5.find_elements(\"xpath\",'//p[@class=\"_2-N8zT\"]')\n",
    "review2=[]\n",
    "for i in review_sum2:\n",
    "    review2.append(i.text)\n",
    "\n",
    "review_full2=driver5.find_elements(\"xpath\",'//div[@class=\"t-ZTKy\"]')\n",
    "full_review2=[]\n",
    "for i in review_full2:\n",
    "    full_review2.append(i.text.replace('\\n',' , '))\n",
    "    \n",
    "iphone11_reviews2=pd.DataFrame({'Rating':rating2,'Review Summary':review2,'Full Review':full_review2})"
   ]
  },
  {
   "cell_type": "code",
   "execution_count": 198,
   "id": "30290f5b",
   "metadata": {},
   "outputs": [],
   "source": [
    "next_3=driver5.find_element(\"xpath\",'//a[@class=\"_1LKTO3\"]').click()\n"
   ]
  },
  {
   "cell_type": "code",
   "execution_count": 199,
   "id": "79ed3c18",
   "metadata": {},
   "outputs": [],
   "source": [
    "rating_tag3=driver5.find_elements(\"xpath\",'//div[@class=\"_3LWZlK _1BLPMq\"]')\n",
    "rating3=[]\n",
    "for i in rating_tag3:\n",
    "    rating3.append(i.text)\n",
    "\n",
    "review_sum3=driver5.find_elements(\"xpath\",'//p[@class=\"_2-N8zT\"]')\n",
    "review3=[]\n",
    "for i in review_sum3:\n",
    "    review3.append(i.text)\n",
    "\n",
    "review_full3=driver5.find_elements(\"xpath\",'//div[@class=\"t-ZTKy\"]')\n",
    "full_review3=[]\n",
    "for i in review_full3:\n",
    "    full_review3.append(i.text.replace('\\n',' , '))    \n",
    "    \n",
    "iphone11_reviews3=pd.DataFrame({'Rating':rating3,'Review Summary':review3,'Full Review':full_review3})"
   ]
  },
  {
   "cell_type": "code",
   "execution_count": 200,
   "id": "c0e9c7a9",
   "metadata": {},
   "outputs": [],
   "source": [
    "next_4=driver5.find_element(\"xpath\",'//a[@class=\"_1LKTO3\"]').click()\n"
   ]
  },
  {
   "cell_type": "code",
   "execution_count": 201,
   "id": "ce78829a",
   "metadata": {},
   "outputs": [],
   "source": [
    "rating_tag4=driver5.find_elements(\"xpath\",'//div[@class=\"_3LWZlK _1BLPMq\"]')\n",
    "rating4=[]\n",
    "for i in rating_tag4:\n",
    "    rating4.append(i.text)\n",
    "\n",
    "review_sum4=driver5.find_elements(\"xpath\",'//p[@class=\"_2-N8zT\"]')\n",
    "review4=[]\n",
    "for i in review_sum4:\n",
    "    review4.append(i.text)\n",
    "\n",
    "review_full4=driver5.find_elements(\"xpath\",'//div[@class=\"t-ZTKy\"]')\n",
    "full_review4=[]\n",
    "for i in review_full4:\n",
    "    full_review4.append(i.text.replace('\\n',' , '))\n",
    "        \n",
    "iphone11_reviews4=pd.DataFrame({'Rating':rating4,'Review Summary':review4,'Full Review':full_review4})"
   ]
  },
  {
   "cell_type": "code",
   "execution_count": 202,
   "id": "d79b6277",
   "metadata": {},
   "outputs": [],
   "source": [
    "next_5=driver5.find_element(\"xpath\",'//a[@class=\"_1LKTO3\"]').click()"
   ]
  },
  {
   "cell_type": "code",
   "execution_count": 203,
   "id": "20bf5437",
   "metadata": {},
   "outputs": [],
   "source": [
    "rating_tag5=driver5.find_elements(\"xpath\",'//div[@class=\"_3LWZlK _1BLPMq\"]')\n",
    "rating5=[]\n",
    "for i in rating_tag5:\n",
    "    rating5.append(i.text)\n",
    "\n",
    "review_sum5=driver5.find_elements(\"xpath\",'//p[@class=\"_2-N8zT\"]')\n",
    "review5=[]\n",
    "for i in review_sum5:\n",
    "    review5.append(i.text)\n",
    "\n",
    "review_full5=driver5.find_elements(\"xpath\",'//div[@class=\"t-ZTKy\"]')\n",
    "full_review5=[]\n",
    "for i in review_full5:\n",
    "    full_review5.append(i.text.replace('\\n',' , '))\n",
    "    \n",
    "iphone11_reviews5=pd.DataFrame({'Rating':rating5,'Review Summary':review5,'Full Review':full_review5})"
   ]
  },
  {
   "cell_type": "code",
   "execution_count": 204,
   "id": "6c470673",
   "metadata": {},
   "outputs": [],
   "source": [
    "next_6=driver5.find_element(\"xpath\",'//a[@class=\"_1LKTO3\"]').click()\n"
   ]
  },
  {
   "cell_type": "code",
   "execution_count": 205,
   "id": "8c0d3e37",
   "metadata": {},
   "outputs": [],
   "source": [
    "rating_tag6=driver5.find_elements(\"xpath\",'//div[@class=\"_3LWZlK _1BLPMq\"]')\n",
    "rating6=[]\n",
    "for i in rating_tag6:\n",
    "    rating6.append(i.text)\n",
    "\n",
    "review_sum6=driver5.find_elements(\"xpath\",'//p[@class=\"_2-N8zT\"]')\n",
    "review6=[]\n",
    "\n",
    "for i in review_sum6:\n",
    "    review6.append(i.text)\n",
    "\n",
    "review_full6=driver5.find_elements(\"xpath\",'//div[@class=\"t-ZTKy\"]')\n",
    "full_review6=[]\n",
    "for i in review_full6:\n",
    "    full_review6.append(i.text.replace('\\n',' , '))\n",
    "    \n",
    "iphone11_reviews6=pd.DataFrame({'Rating':rating6,'Review Summary':review6,'Full Review':full_review6})"
   ]
  },
  {
   "cell_type": "code",
   "execution_count": 206,
   "id": "409e58dd",
   "metadata": {},
   "outputs": [],
   "source": [
    "next_7=driver5.find_element(\"xpath\",'//a[@class=\"_1LKTO3\"]').click()"
   ]
  },
  {
   "cell_type": "code",
   "execution_count": 207,
   "id": "58fa6121",
   "metadata": {},
   "outputs": [],
   "source": [
    "rating_tag7=driver5.find_elements(\"xpath\",'//div[@class=\"_3LWZlK _1BLPMq\"]')\n",
    "rating7=[]\n",
    "for i in rating_tag7:\n",
    "    rating7.append(i.text)\n",
    "\n",
    "review_sum7=driver5.find_elements(\"xpath\",'//p[@class=\"_2-N8zT\"]')\n",
    "review7=[]\n",
    "for i in review_sum7:\n",
    "    review7.append(i.text)\n",
    "\n",
    "review_full7=driver5.find_elements(\"xpath\",'//div[@class=\"t-ZTKy\"]')\n",
    "full_review7=[]\n",
    "for i in review_full7:\n",
    "    full_review7.append(i.text.replace('\\n',' , '))\n",
    "    \n",
    "iphone11_reviews7=pd.DataFrame({'Rating':rating7,'Review Summary':review7,'Full Review':full_review7})"
   ]
  },
  {
   "cell_type": "code",
   "execution_count": 208,
   "id": "5c3c8922",
   "metadata": {},
   "outputs": [],
   "source": [
    "next_8=driver5.find_element(\"xpath\",'//a[@class=\"_1LKTO3\"]').click()\n"
   ]
  },
  {
   "cell_type": "code",
   "execution_count": 209,
   "id": "8b21407d",
   "metadata": {},
   "outputs": [],
   "source": [
    "rating_tag8=driver5.find_elements(\"xpath\",'//div[@class=\"_3LWZlK _1BLPMq\"]')\n",
    "rating8=[]\n",
    "for i in rating_tag8:\n",
    "    rating8.append(i.text)\n",
    "\n",
    "review_sum8=driver5.find_elements(\"xpath\",'//p[@class=\"_2-N8zT\"]')\n",
    "review8=[]\n",
    "for i in review_sum8:\n",
    "    review8.append(i.text)\n",
    "\n",
    "review_full8=driver5.find_elements(\"xpath\",'//div[@class=\"t-ZTKy\"]')\n",
    "full_review8=[]\n",
    "for i in review_full8:\n",
    "    full_review8.append(i.text.replace('\\n',' , '))\n",
    "    \n",
    "iphone11_reviews8=pd.DataFrame({'Rating':rating8,'Review Summary':review8,'Full Review':full_review8})"
   ]
  },
  {
   "cell_type": "code",
   "execution_count": 210,
   "id": "6e339af7",
   "metadata": {},
   "outputs": [],
   "source": [
    "next_9=driver5.find_element(\"xpath\",'//a[@class=\"_1LKTO3\"]').click()\n"
   ]
  },
  {
   "cell_type": "code",
   "execution_count": 211,
   "id": "0faf809b",
   "metadata": {},
   "outputs": [],
   "source": [
    "rating_tag9=driver5.find_elements(\"xpath\",'//div[@class=\"_3LWZlK _1BLPMq\"]')\n",
    "rating9=[]\n",
    "for i in rating_tag9:\n",
    "    rating9.append(i.text)\n",
    "\n",
    "review_sum9=driver5.find_elements(\"xpath\",'//p[@class=\"_2-N8zT\"]')\n",
    "review9=[]\n",
    "for i in review_sum9:\n",
    "    review9.append(i.text)\n",
    "\n",
    "review_full9=driver5.find_elements(\"xpath\",'//div[@class=\"t-ZTKy\"]')\n",
    "full_review9=[]\n",
    "for i in review_full9:\n",
    "    full_review9.append(i.text.replace('\\n',' , '))\n",
    "    \n",
    "iphone11_reviews9=pd.DataFrame({'Rating':rating9,'Review Summary':review9,'Full Review':full_review9})"
   ]
  },
  {
   "cell_type": "code",
   "execution_count": 212,
   "id": "47b18140",
   "metadata": {},
   "outputs": [],
   "source": [
    "next_0=driver5.find_element(\"xpath\",'//a[@class=\"_1LKTO3\"]').click()\n"
   ]
  },
  {
   "cell_type": "code",
   "execution_count": 213,
   "id": "ab9eae49",
   "metadata": {},
   "outputs": [],
   "source": [
    "rating_tag0=driver5.find_elements(\"xpath\",'//div[@class=\"_3LWZlK _1BLPMq\"]')\n",
    "rating0=[]\n",
    "for i in rating_tag0:\n",
    "    rating0.append(i.text)\n",
    "\n",
    "review_sum0=driver5.find_elements(\"xpath\",'//p[@class=\"_2-N8zT\"]')\n",
    "review0=[]\n",
    "for i in review_sum0:\n",
    "    review0.append(i.text)\n",
    "\n",
    "review_full0=driver5.find_elements(\"xpath\",'//div[@class=\"t-ZTKy\"]')\n",
    "full_review0=[]\n",
    "for i in review_full0:\n",
    "    full_review0.append(i.text.replace('\\n',' , '))\n",
    "    \n",
    "iphone11_reviews0=pd.DataFrame({'Rating':rating0,'Review Summary':review0,'Full Review':full_review0})"
   ]
  },
  {
   "cell_type": "code",
   "execution_count": 214,
   "id": "baa54e12",
   "metadata": {},
   "outputs": [
    {
     "data": {
      "text/html": [
       "<div>\n",
       "<style scoped>\n",
       "    .dataframe tbody tr th:only-of-type {\n",
       "        vertical-align: middle;\n",
       "    }\n",
       "\n",
       "    .dataframe tbody tr th {\n",
       "        vertical-align: top;\n",
       "    }\n",
       "\n",
       "    .dataframe thead th {\n",
       "        text-align: right;\n",
       "    }\n",
       "</style>\n",
       "<table border=\"1\" class=\"dataframe\">\n",
       "  <thead>\n",
       "    <tr style=\"text-align: right;\">\n",
       "      <th></th>\n",
       "      <th>Rating</th>\n",
       "      <th>Review Summary</th>\n",
       "      <th>Full Review</th>\n",
       "    </tr>\n",
       "  </thead>\n",
       "  <tbody>\n",
       "    <tr>\n",
       "      <th>0</th>\n",
       "      <td>5</td>\n",
       "      <td>Simply awesome</td>\n",
       "      <td>Really satisfied with the Product I received.....</td>\n",
       "    </tr>\n",
       "    <tr>\n",
       "      <th>1</th>\n",
       "      <td>5</td>\n",
       "      <td>Perfect product!</td>\n",
       "      <td>Amazing phone with great cameras and better ba...</td>\n",
       "    </tr>\n",
       "    <tr>\n",
       "      <th>2</th>\n",
       "      <td>5</td>\n",
       "      <td>Best in the market!</td>\n",
       "      <td>Great iPhone very snappy experience as apple k...</td>\n",
       "    </tr>\n",
       "    <tr>\n",
       "      <th>3</th>\n",
       "      <td>5</td>\n",
       "      <td>Highly recommended</td>\n",
       "      <td>What a camera .....just awesome ..you can feel...</td>\n",
       "    </tr>\n",
       "    <tr>\n",
       "      <th>4</th>\n",
       "      <td>5</td>\n",
       "      <td>Worth every penny</td>\n",
       "      <td>Previously I was using one plus 3t it was a gr...</td>\n",
       "    </tr>\n",
       "    <tr>\n",
       "      <th>...</th>\n",
       "      <td>...</td>\n",
       "      <td>...</td>\n",
       "      <td>...</td>\n",
       "    </tr>\n",
       "    <tr>\n",
       "      <th>95</th>\n",
       "      <td>5</td>\n",
       "      <td>Perfect product!</td>\n",
       "      <td>Iphone is just awesome.. battery backup is ver...</td>\n",
       "    </tr>\n",
       "    <tr>\n",
       "      <th>96</th>\n",
       "      <td>5</td>\n",
       "      <td>Terrific</td>\n",
       "      <td>Really worth of money. i just love it. It is t...</td>\n",
       "    </tr>\n",
       "    <tr>\n",
       "      <th>97</th>\n",
       "      <td>5</td>\n",
       "      <td>Worth every penny</td>\n",
       "      <td>Best budget Iphone till date ❤️ go for it guys...</td>\n",
       "    </tr>\n",
       "    <tr>\n",
       "      <th>98</th>\n",
       "      <td>5</td>\n",
       "      <td>Wonderful</td>\n",
       "      <td>This is my first ever I phone. Before this I w...</td>\n",
       "    </tr>\n",
       "    <tr>\n",
       "      <th>99</th>\n",
       "      <td>5</td>\n",
       "      <td>Simply awesome</td>\n",
       "      <td>Excellent camera, good performance, no lag. Th...</td>\n",
       "    </tr>\n",
       "  </tbody>\n",
       "</table>\n",
       "<p>100 rows × 3 columns</p>\n",
       "</div>"
      ],
      "text/plain": [
       "   Rating       Review Summary  \\\n",
       "0       5       Simply awesome   \n",
       "1       5     Perfect product!   \n",
       "2       5  Best in the market!   \n",
       "3       5   Highly recommended   \n",
       "4       5    Worth every penny   \n",
       "..    ...                  ...   \n",
       "95      5     Perfect product!   \n",
       "96      5             Terrific   \n",
       "97      5    Worth every penny   \n",
       "98      5            Wonderful   \n",
       "99      5       Simply awesome   \n",
       "\n",
       "                                          Full Review  \n",
       "0   Really satisfied with the Product I received.....  \n",
       "1   Amazing phone with great cameras and better ba...  \n",
       "2   Great iPhone very snappy experience as apple k...  \n",
       "3   What a camera .....just awesome ..you can feel...  \n",
       "4   Previously I was using one plus 3t it was a gr...  \n",
       "..                                                ...  \n",
       "95  Iphone is just awesome.. battery backup is ver...  \n",
       "96  Really worth of money. i just love it. It is t...  \n",
       "97  Best budget Iphone till date ❤️ go for it guys...  \n",
       "98  This is my first ever I phone. Before this I w...  \n",
       "99  Excellent camera, good performance, no lag. Th...  \n",
       "\n",
       "[100 rows x 3 columns]"
      ]
     },
     "execution_count": 214,
     "metadata": {},
     "output_type": "execute_result"
    }
   ],
   "source": [
    "iphone11_reviews=pd.concat([iphone11_reviews1,iphone11_reviews2,iphone11_reviews3,iphone11_reviews4,iphone11_reviews5,iphone11_reviews6,iphone11_reviews7,iphone11_reviews8,iphone11_reviews9,iphone11_reviews0], ignore_index=True)\n",
    "iphone11_reviews[:100]"
   ]
  },
  {
   "cell_type": "markdown",
   "id": "37fb7614",
   "metadata": {},
   "source": [
    "## Q6: Scrape data for first 100 sneakers you find when you visit flipkart.com and search for “sneakers” in the search field.\n",
    "### You have to scrape 4 attributes of each sneaker:\n",
    "### 1. Brand\n",
    "### 2. Product Description\n",
    "### 3. Price"
   ]
  },
  {
   "cell_type": "code",
   "execution_count": 216,
   "id": "4f2e6fca",
   "metadata": {},
   "outputs": [],
   "source": [
    "driver6=webdriver.Chrome('chromedriver.exe')\n",
    "driver6.get('https://www.flipkart.com/')"
   ]
  },
  {
   "cell_type": "code",
   "execution_count": 217,
   "id": "ba3c0434",
   "metadata": {},
   "outputs": [],
   "source": [
    "pop_close = driver6.find_element(\"xpath\",\"/html/body/div[2]/div/div/button\").click()\n"
   ]
  },
  {
   "cell_type": "code",
   "execution_count": 218,
   "id": "41b6a852",
   "metadata": {},
   "outputs": [],
   "source": [
    "search_product6=driver6.find_element(By.CLASS_NAME,'_3704LK').send_keys(\"sneakers\")\n"
   ]
  },
  {
   "cell_type": "code",
   "execution_count": 219,
   "id": "29aa31e9",
   "metadata": {},
   "outputs": [],
   "source": [
    "search_button6= driver6.find_element(By.CLASS_NAME,'L0Z3Pu').click()\n"
   ]
  },
  {
   "cell_type": "code",
   "execution_count": 220,
   "id": "0cfeb53b",
   "metadata": {},
   "outputs": [],
   "source": [
    "brand6=driver6.find_elements(\"xpath\",'//div[@class=\"_2WkVRV\"]')\n",
    "brand_name6=[]\n",
    "for i in brand6:\n",
    "    brand_name6.append(i.text)\n",
    "    \n",
    "product6=driver6.find_elements(\"xpath\",'//a[@class=\"IRpwTa\"]')\n",
    "product_desc6=[]\n",
    "for i in product6:\n",
    "    product_desc6.append(i.text)\n",
    "    \n",
    "price6=driver6.find_elements(\"xpath\",'//div[@class=\"_30jeq3\"]')\n",
    "product_price6=[]\n",
    "for i in price6:\n",
    "    product_price6.append(i.text)\n",
    "    \n",
    "price_off6=driver6.find_elements(\"xpath\",'//div[@class=\"_3Ay6Sb\"]')\n",
    "Discount6=[]\n",
    "for i in price_off6:\n",
    "    Discount6.append(i.text)"
   ]
  },
  {
   "cell_type": "code",
   "execution_count": 221,
   "id": "00626e61",
   "metadata": {},
   "outputs": [
    {
     "name": "stdout",
     "output_type": "stream",
     "text": [
      "32 40 40 40\n"
     ]
    }
   ],
   "source": [
    "print(len(product_desc6),len(product_price6),len(Discount6),len(brand_name6))\n"
   ]
  },
  {
   "cell_type": "code",
   "execution_count": 222,
   "id": "607bdac5",
   "metadata": {},
   "outputs": [],
   "source": [
    "sneaker1=pd.DataFrame({'Brand Name':brand_name6[:30],'Product Description':product_desc6[:30], 'Product Price':product_price6[:30],'Discount':Discount6[:30]})\n"
   ]
  },
  {
   "cell_type": "code",
   "execution_count": 223,
   "id": "ac7b708f",
   "metadata": {},
   "outputs": [],
   "source": [
    "page_2=driver6.find_element(\"xpath\",'//a[@class=\"_1LKTO3\"]').click()\n"
   ]
  },
  {
   "cell_type": "code",
   "execution_count": 224,
   "id": "02105c53",
   "metadata": {},
   "outputs": [],
   "source": [
    "brand6=driver6.find_elements(\"xpath\",'//div[@class=\"_2WkVRV\"]')\n",
    "brand_name6=[]\n",
    "for i in brand6:\n",
    "    brand_name6.append(i.text)\n",
    "    \n",
    "product6=driver6.find_elements(\"xpath\",'//a[@class=\"IRpwTa\"]')\n",
    "product_desc6=[]\n",
    "for i in product6:\n",
    "    product_desc6.append(i.text)\n",
    "    \n",
    "price6=driver6.find_elements(\"xpath\",'//div[@class=\"_30jeq3\"]')\n",
    "product_price6=[]\n",
    "for i in price6:\n",
    "    product_price6.append(i.text)\n",
    "    \n",
    "price_off6=driver6.find_elements(\"xpath\",'//div[@class=\"_3Ay6Sb\"]')\n",
    "Discount6=[]\n",
    "for i in price_off6:\n",
    "    Discount6.append(i.text)\n",
    "    \n",
    "sneaker2=pd.DataFrame({'Brand Name':brand_name6[:30],'Product Description':product_desc6[:30], 'Product Price':product_price6[:30],'Discount':Discount6[:30]})\n"
   ]
  },
  {
   "cell_type": "code",
   "execution_count": 225,
   "id": "3d7cc7bb",
   "metadata": {},
   "outputs": [],
   "source": [
    "page_3=driver6.find_element(\"xpath\",'//a[@class=\"_1LKTO3\"]').click()\n"
   ]
  },
  {
   "cell_type": "code",
   "execution_count": 226,
   "id": "ad130066",
   "metadata": {},
   "outputs": [],
   "source": [
    "brand6=driver6.find_elements(\"xpath\",'//div[@class=\"_2WkVRV\"]')\n",
    "brand_name6=[]\n",
    "for i in brand6:\n",
    "    brand_name6.append(i.text)\n",
    "    \n",
    "product6=driver6.find_elements(\"xpath\",'//a[@class=\"IRpwTa\"]')\n",
    "product_desc6=[]\n",
    "for i in product6:\n",
    "    product_desc6.append(i.text)\n",
    "    \n",
    "price6=driver6.find_elements(\"xpath\",'//div[@class=\"_30jeq3\"]')\n",
    "product_price6=[]\n",
    "for i in price6:\n",
    "    product_price6.append(i.text)\n",
    "    \n",
    "price_off6=driver6.find_elements(\"xpath\",'//div[@class=\"_3Ay6Sb\"]')\n",
    "Discount6=[]\n",
    "for i in price_off6:\n",
    "    Discount6.append(i.text)\n",
    "    \n",
    "sneaker3=pd.DataFrame({'Brand Name':brand_name6[:30],'Product Description':product_desc6[:30], 'Product Price':product_price6[:30],'Discount':Discount6[:30]})\n"
   ]
  },
  {
   "cell_type": "code",
   "execution_count": 227,
   "id": "da1536bb",
   "metadata": {},
   "outputs": [],
   "source": [
    "page_4=driver6.find_element(\"xpath\",'//a[@class=\"_1LKTO3\"]').click()\n"
   ]
  },
  {
   "cell_type": "code",
   "execution_count": 228,
   "id": "88df3967",
   "metadata": {},
   "outputs": [],
   "source": [
    "brand6=driver6.find_elements(\"xpath\",'//div[@class=\"_2WkVRV\"]')\n",
    "brand_name6=[]\n",
    "for i in brand6:\n",
    "    brand_name6.append(i.text)\n",
    "    \n",
    "product6=driver6.find_elements(\"xpath\",'//a[@class=\"IRpwTa\"]')\n",
    "product_desc6=[]\n",
    "for i in product6:\n",
    "    product_desc6.append(i.text)\n",
    "    \n",
    "price6=driver6.find_elements(\"xpath\",'//div[@class=\"_30jeq3\"]')\n",
    "product_price6=[]\n",
    "for i in price6:\n",
    "    product_price6.append(i.text)\n",
    "    \n",
    "price_off6=driver6.find_elements(\"xpath\",'//div[@class=\"_3Ay6Sb\"]')\n",
    "Discount6=[]\n",
    "for i in price_off6:\n",
    "    Discount6.append(i.text)\n",
    "    \n",
    "sneaker4=pd.DataFrame({'Brand Name':brand_name6[:10],'Product Description':product_desc6[:10], 'Product Price':product_price6[:10],'Discount':Discount6[:10]})\n"
   ]
  },
  {
   "cell_type": "code",
   "execution_count": 229,
   "id": "b76b411e",
   "metadata": {},
   "outputs": [
    {
     "data": {
      "text/html": [
       "<div>\n",
       "<style scoped>\n",
       "    .dataframe tbody tr th:only-of-type {\n",
       "        vertical-align: middle;\n",
       "    }\n",
       "\n",
       "    .dataframe tbody tr th {\n",
       "        vertical-align: top;\n",
       "    }\n",
       "\n",
       "    .dataframe thead th {\n",
       "        text-align: right;\n",
       "    }\n",
       "</style>\n",
       "<table border=\"1\" class=\"dataframe\">\n",
       "  <thead>\n",
       "    <tr style=\"text-align: right;\">\n",
       "      <th></th>\n",
       "      <th>Brand Name</th>\n",
       "      <th>Product Description</th>\n",
       "      <th>Product Price</th>\n",
       "      <th>Discount</th>\n",
       "    </tr>\n",
       "  </thead>\n",
       "  <tbody>\n",
       "    <tr>\n",
       "      <th>0</th>\n",
       "      <td>Scull Wings</td>\n",
       "      <td>luxury fashionable casual sneaker shoes Sneake...</td>\n",
       "      <td>₹499</td>\n",
       "      <td>66% off</td>\n",
       "    </tr>\n",
       "    <tr>\n",
       "      <th>1</th>\n",
       "      <td>luxury fashion</td>\n",
       "      <td>Sneakers For Men</td>\n",
       "      <td>₹455</td>\n",
       "      <td>64% off</td>\n",
       "    </tr>\n",
       "    <tr>\n",
       "      <th>2</th>\n",
       "      <td>WOODLAND</td>\n",
       "      <td>Modern Trendy Sneakers Shoes Sneakers For Men</td>\n",
       "      <td>₹1,797</td>\n",
       "      <td>40% off</td>\n",
       "    </tr>\n",
       "    <tr>\n",
       "      <th>3</th>\n",
       "      <td>BRUTON</td>\n",
       "      <td>Sneakers For Men</td>\n",
       "      <td>₹284</td>\n",
       "      <td>78% off</td>\n",
       "    </tr>\n",
       "    <tr>\n",
       "      <th>4</th>\n",
       "      <td>SFR</td>\n",
       "      <td>Modern Trendy Sneakers Shoes Sneakers For Men</td>\n",
       "      <td>₹289</td>\n",
       "      <td>71% off</td>\n",
       "    </tr>\n",
       "    <tr>\n",
       "      <th>...</th>\n",
       "      <td>...</td>\n",
       "      <td>...</td>\n",
       "      <td>...</td>\n",
       "      <td>...</td>\n",
       "    </tr>\n",
       "    <tr>\n",
       "      <th>95</th>\n",
       "      <td>D-SNEAKERZ</td>\n",
       "      <td>Casual Sneakers Canvas Shoes For Men Sneakers ...</td>\n",
       "      <td>₹299</td>\n",
       "      <td>54% off</td>\n",
       "    </tr>\n",
       "    <tr>\n",
       "      <th>96</th>\n",
       "      <td>Robbie jones</td>\n",
       "      <td>Lattest Sneakers Shoe Sneakers For Men</td>\n",
       "      <td>₹449</td>\n",
       "      <td>55% off</td>\n",
       "    </tr>\n",
       "    <tr>\n",
       "      <th>97</th>\n",
       "      <td>ADDOP</td>\n",
       "      <td>White Sneaker For Men's/Boy's Sneakers For Men</td>\n",
       "      <td>₹749</td>\n",
       "      <td>62% off</td>\n",
       "    </tr>\n",
       "    <tr>\n",
       "      <th>98</th>\n",
       "      <td>BRUTON</td>\n",
       "      <td>Lightweight Pack Of 1 Trendy Sneakers Sneakers...</td>\n",
       "      <td>₹269</td>\n",
       "      <td>79% off</td>\n",
       "    </tr>\n",
       "    <tr>\n",
       "      <th>99</th>\n",
       "      <td>Shoes Bank</td>\n",
       "      <td>Fashionable Luxury Canvas Casual Outdoor Sneak...</td>\n",
       "      <td>₹297</td>\n",
       "      <td>70% off</td>\n",
       "    </tr>\n",
       "  </tbody>\n",
       "</table>\n",
       "<p>100 rows × 4 columns</p>\n",
       "</div>"
      ],
      "text/plain": [
       "        Brand Name                                Product Description  \\\n",
       "0      Scull Wings  luxury fashionable casual sneaker shoes Sneake...   \n",
       "1   luxury fashion                                   Sneakers For Men   \n",
       "2         WOODLAND      Modern Trendy Sneakers Shoes Sneakers For Men   \n",
       "3           BRUTON                                   Sneakers For Men   \n",
       "4              SFR      Modern Trendy Sneakers Shoes Sneakers For Men   \n",
       "..             ...                                                ...   \n",
       "95      D-SNEAKERZ  Casual Sneakers Canvas Shoes For Men Sneakers ...   \n",
       "96    Robbie jones             Lattest Sneakers Shoe Sneakers For Men   \n",
       "97           ADDOP     White Sneaker For Men's/Boy's Sneakers For Men   \n",
       "98          BRUTON  Lightweight Pack Of 1 Trendy Sneakers Sneakers...   \n",
       "99      Shoes Bank  Fashionable Luxury Canvas Casual Outdoor Sneak...   \n",
       "\n",
       "   Product Price Discount  \n",
       "0           ₹499  66% off  \n",
       "1           ₹455  64% off  \n",
       "2         ₹1,797  40% off  \n",
       "3           ₹284  78% off  \n",
       "4           ₹289  71% off  \n",
       "..           ...      ...  \n",
       "95          ₹299  54% off  \n",
       "96          ₹449  55% off  \n",
       "97          ₹749  62% off  \n",
       "98          ₹269  79% off  \n",
       "99          ₹297  70% off  \n",
       "\n",
       "[100 rows x 4 columns]"
      ]
     },
     "execution_count": 229,
     "metadata": {},
     "output_type": "execute_result"
    }
   ],
   "source": [
    "sneaker=pd.concat([sneaker1,sneaker2,sneaker3,sneaker4], ignore_index=True)\n",
    "sneaker[:100]"
   ]
  },
  {
   "cell_type": "markdown",
   "id": "3ba5f48f",
   "metadata": {},
   "source": [
    "## Q7  scrape First 100 shoes data you get from  - https://www.myntra.com/shoes. The data should include “Brand” of the shoes , Short Shoe description, price of the shoe"
   ]
  },
  {
   "cell_type": "code",
   "execution_count": 256,
   "id": "45eec120",
   "metadata": {},
   "outputs": [],
   "source": [
    "driver7=webdriver.Chrome('chromedriver.exe')"
   ]
  },
  {
   "cell_type": "code",
   "execution_count": 257,
   "id": "1e6a5d73",
   "metadata": {},
   "outputs": [],
   "source": [
    "driver7.maximize_window()"
   ]
  },
  {
   "cell_type": "code",
   "execution_count": 258,
   "id": "27b14b73",
   "metadata": {},
   "outputs": [
    {
     "ename": "WebDriverException",
     "evalue": "Message: unknown error: cannot determine loading status\nfrom unknown error: unexpected command response\n  (Session info: chrome=103.0.5060.114)\nStacktrace:\nBacktrace:\n\tOrdinal0 [0x00406463+2188387]\n\tOrdinal0 [0x0039E461+1762401]\n\tOrdinal0 [0x002B3D78+802168]\n\tOrdinal0 [0x002A7210+750096]\n\tOrdinal0 [0x002A675A+747354]\n\tOrdinal0 [0x002A5D3F+744767]\n\tOrdinal0 [0x002A4C28+740392]\n\tOrdinal0 [0x002A5228+741928]\n\tOrdinal0 [0x002AEF2F+782127]\n\tOrdinal0 [0x002B9FBB+827323]\n\tOrdinal0 [0x002BD310+840464]\n\tOrdinal0 [0x002A54F6+742646]\n\tOrdinal0 [0x002B9BF3+826355]\n\tOrdinal0 [0x0030CF6D+1167213]\n\tOrdinal0 [0x002FC5F6+1099254]\n\tOrdinal0 [0x002D6BE0+945120]\n\tOrdinal0 [0x002D7AD6+948950]\n\tGetHandleVerifier [0x006A71F2+2712546]\n\tGetHandleVerifier [0x0069886D+2652765]\n\tGetHandleVerifier [0x0049002A+520730]\n\tGetHandleVerifier [0x0048EE06+516086]\n\tOrdinal0 [0x003A468B+1787531]\n\tOrdinal0 [0x003A8E88+1805960]\n\tOrdinal0 [0x003A8F75+1806197]\n\tOrdinal0 [0x003B1DF1+1842673]\n\tBaseThreadInitThunk [0x772AFA29+25]\n\tRtlGetAppContainerNamedObjectPath [0x77877A9E+286]\n\tRtlGetAppContainerNamedObjectPath [0x77877A6E+238]\n",
     "output_type": "error",
     "traceback": [
      "\u001b[1;31m---------------------------------------------------------------------------\u001b[0m",
      "\u001b[1;31mWebDriverException\u001b[0m                        Traceback (most recent call last)",
      "\u001b[1;32m~\\AppData\\Local\\Temp/ipykernel_6812/1289648309.py\u001b[0m in \u001b[0;36m<module>\u001b[1;34m\u001b[0m\n\u001b[1;32m----> 1\u001b[1;33m \u001b[0mdriver7\u001b[0m\u001b[1;33m.\u001b[0m\u001b[0mget\u001b[0m\u001b[1;33m(\u001b[0m\u001b[1;34m'https://www.myntra.com/shoes'\u001b[0m\u001b[1;33m)\u001b[0m\u001b[1;33m\u001b[0m\u001b[1;33m\u001b[0m\u001b[0m\n\u001b[0m",
      "\u001b[1;32m~\\Anaconda3\\lib\\site-packages\\selenium\\webdriver\\remote\\webdriver.py\u001b[0m in \u001b[0;36mget\u001b[1;34m(self, url)\u001b[0m\n\u001b[0;32m    445\u001b[0m         \u001b[0mLoads\u001b[0m \u001b[0ma\u001b[0m \u001b[0mweb\u001b[0m \u001b[0mpage\u001b[0m \u001b[1;32min\u001b[0m \u001b[0mthe\u001b[0m \u001b[0mcurrent\u001b[0m \u001b[0mbrowser\u001b[0m \u001b[0msession\u001b[0m\u001b[1;33m.\u001b[0m\u001b[1;33m\u001b[0m\u001b[1;33m\u001b[0m\u001b[0m\n\u001b[0;32m    446\u001b[0m         \"\"\"\n\u001b[1;32m--> 447\u001b[1;33m         \u001b[0mself\u001b[0m\u001b[1;33m.\u001b[0m\u001b[0mexecute\u001b[0m\u001b[1;33m(\u001b[0m\u001b[0mCommand\u001b[0m\u001b[1;33m.\u001b[0m\u001b[0mGET\u001b[0m\u001b[1;33m,\u001b[0m \u001b[1;33m{\u001b[0m\u001b[1;34m'url'\u001b[0m\u001b[1;33m:\u001b[0m \u001b[0murl\u001b[0m\u001b[1;33m}\u001b[0m\u001b[1;33m)\u001b[0m\u001b[1;33m\u001b[0m\u001b[1;33m\u001b[0m\u001b[0m\n\u001b[0m\u001b[0;32m    448\u001b[0m \u001b[1;33m\u001b[0m\u001b[0m\n\u001b[0;32m    449\u001b[0m     \u001b[1;33m@\u001b[0m\u001b[0mproperty\u001b[0m\u001b[1;33m\u001b[0m\u001b[1;33m\u001b[0m\u001b[0m\n",
      "\u001b[1;32m~\\Anaconda3\\lib\\site-packages\\selenium\\webdriver\\remote\\webdriver.py\u001b[0m in \u001b[0;36mexecute\u001b[1;34m(self, driver_command, params)\u001b[0m\n\u001b[0;32m    433\u001b[0m         \u001b[0mresponse\u001b[0m \u001b[1;33m=\u001b[0m \u001b[0mself\u001b[0m\u001b[1;33m.\u001b[0m\u001b[0mcommand_executor\u001b[0m\u001b[1;33m.\u001b[0m\u001b[0mexecute\u001b[0m\u001b[1;33m(\u001b[0m\u001b[0mdriver_command\u001b[0m\u001b[1;33m,\u001b[0m \u001b[0mparams\u001b[0m\u001b[1;33m)\u001b[0m\u001b[1;33m\u001b[0m\u001b[1;33m\u001b[0m\u001b[0m\n\u001b[0;32m    434\u001b[0m         \u001b[1;32mif\u001b[0m \u001b[0mresponse\u001b[0m\u001b[1;33m:\u001b[0m\u001b[1;33m\u001b[0m\u001b[1;33m\u001b[0m\u001b[0m\n\u001b[1;32m--> 435\u001b[1;33m             \u001b[0mself\u001b[0m\u001b[1;33m.\u001b[0m\u001b[0merror_handler\u001b[0m\u001b[1;33m.\u001b[0m\u001b[0mcheck_response\u001b[0m\u001b[1;33m(\u001b[0m\u001b[0mresponse\u001b[0m\u001b[1;33m)\u001b[0m\u001b[1;33m\u001b[0m\u001b[1;33m\u001b[0m\u001b[0m\n\u001b[0m\u001b[0;32m    436\u001b[0m             response['value'] = self._unwrap_value(\n\u001b[0;32m    437\u001b[0m                 response.get('value', None))\n",
      "\u001b[1;32m~\\Anaconda3\\lib\\site-packages\\selenium\\webdriver\\remote\\errorhandler.py\u001b[0m in \u001b[0;36mcheck_response\u001b[1;34m(self, response)\u001b[0m\n\u001b[0;32m    245\u001b[0m                 \u001b[0malert_text\u001b[0m \u001b[1;33m=\u001b[0m \u001b[0mvalue\u001b[0m\u001b[1;33m[\u001b[0m\u001b[1;34m'alert'\u001b[0m\u001b[1;33m]\u001b[0m\u001b[1;33m.\u001b[0m\u001b[0mget\u001b[0m\u001b[1;33m(\u001b[0m\u001b[1;34m'text'\u001b[0m\u001b[1;33m)\u001b[0m\u001b[1;33m\u001b[0m\u001b[1;33m\u001b[0m\u001b[0m\n\u001b[0;32m    246\u001b[0m             \u001b[1;32mraise\u001b[0m \u001b[0mexception_class\u001b[0m\u001b[1;33m(\u001b[0m\u001b[0mmessage\u001b[0m\u001b[1;33m,\u001b[0m \u001b[0mscreen\u001b[0m\u001b[1;33m,\u001b[0m \u001b[0mstacktrace\u001b[0m\u001b[1;33m,\u001b[0m \u001b[0malert_text\u001b[0m\u001b[1;33m)\u001b[0m  \u001b[1;31m# type: ignore[call-arg]  # mypy is not smart enough here\u001b[0m\u001b[1;33m\u001b[0m\u001b[1;33m\u001b[0m\u001b[0m\n\u001b[1;32m--> 247\u001b[1;33m         \u001b[1;32mraise\u001b[0m \u001b[0mexception_class\u001b[0m\u001b[1;33m(\u001b[0m\u001b[0mmessage\u001b[0m\u001b[1;33m,\u001b[0m \u001b[0mscreen\u001b[0m\u001b[1;33m,\u001b[0m \u001b[0mstacktrace\u001b[0m\u001b[1;33m)\u001b[0m\u001b[1;33m\u001b[0m\u001b[1;33m\u001b[0m\u001b[0m\n\u001b[0m\u001b[0;32m    248\u001b[0m \u001b[1;33m\u001b[0m\u001b[0m\n\u001b[0;32m    249\u001b[0m     \u001b[1;32mdef\u001b[0m \u001b[0m_value_or_default\u001b[0m\u001b[1;33m(\u001b[0m\u001b[0mself\u001b[0m\u001b[1;33m,\u001b[0m \u001b[0mobj\u001b[0m\u001b[1;33m:\u001b[0m \u001b[0mMapping\u001b[0m\u001b[1;33m[\u001b[0m\u001b[0m_KT\u001b[0m\u001b[1;33m,\u001b[0m \u001b[0m_VT\u001b[0m\u001b[1;33m]\u001b[0m\u001b[1;33m,\u001b[0m \u001b[0mkey\u001b[0m\u001b[1;33m:\u001b[0m \u001b[0m_KT\u001b[0m\u001b[1;33m,\u001b[0m \u001b[0mdefault\u001b[0m\u001b[1;33m:\u001b[0m \u001b[0m_VT\u001b[0m\u001b[1;33m)\u001b[0m \u001b[1;33m->\u001b[0m \u001b[0m_VT\u001b[0m\u001b[1;33m:\u001b[0m\u001b[1;33m\u001b[0m\u001b[1;33m\u001b[0m\u001b[0m\n",
      "\u001b[1;31mWebDriverException\u001b[0m: Message: unknown error: cannot determine loading status\nfrom unknown error: unexpected command response\n  (Session info: chrome=103.0.5060.114)\nStacktrace:\nBacktrace:\n\tOrdinal0 [0x00406463+2188387]\n\tOrdinal0 [0x0039E461+1762401]\n\tOrdinal0 [0x002B3D78+802168]\n\tOrdinal0 [0x002A7210+750096]\n\tOrdinal0 [0x002A675A+747354]\n\tOrdinal0 [0x002A5D3F+744767]\n\tOrdinal0 [0x002A4C28+740392]\n\tOrdinal0 [0x002A5228+741928]\n\tOrdinal0 [0x002AEF2F+782127]\n\tOrdinal0 [0x002B9FBB+827323]\n\tOrdinal0 [0x002BD310+840464]\n\tOrdinal0 [0x002A54F6+742646]\n\tOrdinal0 [0x002B9BF3+826355]\n\tOrdinal0 [0x0030CF6D+1167213]\n\tOrdinal0 [0x002FC5F6+1099254]\n\tOrdinal0 [0x002D6BE0+945120]\n\tOrdinal0 [0x002D7AD6+948950]\n\tGetHandleVerifier [0x006A71F2+2712546]\n\tGetHandleVerifier [0x0069886D+2652765]\n\tGetHandleVerifier [0x0049002A+520730]\n\tGetHandleVerifier [0x0048EE06+516086]\n\tOrdinal0 [0x003A468B+1787531]\n\tOrdinal0 [0x003A8E88+1805960]\n\tOrdinal0 [0x003A8F75+1806197]\n\tOrdinal0 [0x003B1DF1+1842673]\n\tBaseThreadInitThunk [0x772AFA29+25]\n\tRtlGetAppContainerNamedObjectPath [0x77877A9E+286]\n\tRtlGetAppContainerNamedObjectPath [0x77877A6E+238]\n"
     ]
    }
   ],
   "source": [
    "driver7.get('https://www.myntra.com/shoes')"
   ]
  },
  {
   "cell_type": "markdown",
   "id": "e2663353",
   "metadata": {},
   "source": [
    "# Not able to scrap the data from myntra.com"
   ]
  },
  {
   "cell_type": "markdown",
   "id": "a361f901",
   "metadata": {},
   "source": [
    "## Q8 scrape first 10 laptops data. You have to scrape 3 attributesfor each laptop:1. Title \n",
    "## 2.Ratings\n",
    "## 3. Price"
   ]
  },
  {
   "cell_type": "code",
   "execution_count": 44,
   "id": "5b823aca",
   "metadata": {},
   "outputs": [],
   "source": [
    "driver8=webdriver.Chrome('chromedriver.exe')\n",
    "driver8.get('https://www.amazon.in/')"
   ]
  },
  {
   "cell_type": "code",
   "execution_count": 46,
   "id": "32b03eed",
   "metadata": {},
   "outputs": [],
   "source": [
    "search_product8=driver8.find_element(By.ID,\"twotabsearchtextbox\").send_keys(\"Laptop\")\n"
   ]
  },
  {
   "cell_type": "code",
   "execution_count": 47,
   "id": "4dbca8a8",
   "metadata": {},
   "outputs": [],
   "source": [
    "search_product8=driver8.find_element(By.ID,\"nav-search-submit-button\").click()\n"
   ]
  },
  {
   "cell_type": "code",
   "execution_count": 48,
   "id": "1df731b4",
   "metadata": {},
   "outputs": [],
   "source": [
    "Driveramazon = driver8.find_element('xpath','/html/body/div[1]/div[2]/div[1]/div[2]/div/div[3]/span/div[1]/div/div/div[6]/ul[4]/li[12]/span/a/div/label/i').click()"
   ]
  },
  {
   "cell_type": "code",
   "execution_count": 49,
   "id": "13d9e275",
   "metadata": {},
   "outputs": [],
   "source": [
    "title8=driver8.find_elements(\"xpath\",'//span[@class=\"a-size-medium a-color-base a-text-normal\"]')\n",
    "title=[]\n",
    "for i in title8:\n",
    "    title.append(i.text)\n",
    "    \n",
    "\n",
    "Ratings8=driver8.find_elements(\"xpath\",'//div[@class=\"a-row a-size-small\"]')\n",
    "rating8=[]\n",
    "for i in Ratings8:\n",
    "    rating8.append(i.text)\n",
    "    \n",
    "price8=driver8.find_elements(\"xpath\",'//span[@class=\"a-price-whole\"]')\n",
    "price_8=[]\n",
    "for i in price8:\n",
    "    price_8.append(i.text)"
   ]
  },
  {
   "cell_type": "code",
   "execution_count": 52,
   "id": "12b72ce4",
   "metadata": {},
   "outputs": [
    {
     "data": {
      "text/html": [
       "<div>\n",
       "<style scoped>\n",
       "    .dataframe tbody tr th:only-of-type {\n",
       "        vertical-align: middle;\n",
       "    }\n",
       "\n",
       "    .dataframe tbody tr th {\n",
       "        vertical-align: top;\n",
       "    }\n",
       "\n",
       "    .dataframe thead th {\n",
       "        text-align: right;\n",
       "    }\n",
       "</style>\n",
       "<table border=\"1\" class=\"dataframe\">\n",
       "  <thead>\n",
       "    <tr style=\"text-align: right;\">\n",
       "      <th></th>\n",
       "      <th>Laptop Name</th>\n",
       "      <th>Rating</th>\n",
       "      <th>Price</th>\n",
       "    </tr>\n",
       "  </thead>\n",
       "  <tbody>\n",
       "    <tr>\n",
       "      <th>0</th>\n",
       "      <td>ASUS VivoBook 15 (2021), 15.6-inch (39.62 cm) ...</td>\n",
       "      <td>1,433</td>\n",
       "      <td>25,990</td>\n",
       "    </tr>\n",
       "    <tr>\n",
       "      <th>1</th>\n",
       "      <td>Lenovo IdeaPad Slim 3 Intel Celeron N4020 15.6...</td>\n",
       "      <td>20</td>\n",
       "      <td>28,980</td>\n",
       "    </tr>\n",
       "    <tr>\n",
       "      <th>2</th>\n",
       "      <td>Lenovo IdeaPad Slim 1 Intel Celeron N4020 11.6...</td>\n",
       "      <td>128</td>\n",
       "      <td>23,049</td>\n",
       "    </tr>\n",
       "    <tr>\n",
       "      <th>3</th>\n",
       "      <td>AVITA SATUS ULTIMUS S111 NU14A1INC43PN-CS 14.1...</td>\n",
       "      <td>52</td>\n",
       "      <td>21,990</td>\n",
       "    </tr>\n",
       "    <tr>\n",
       "      <th>4</th>\n",
       "      <td>Lenovo IdeaPad D330 Intel Celeron N4020 10.1\" ...</td>\n",
       "      <td>95</td>\n",
       "      <td>23,990</td>\n",
       "    </tr>\n",
       "    <tr>\n",
       "      <th>5</th>\n",
       "      <td>Lenovo V15 Intel Celeron N4020 15.6 inches FHD...</td>\n",
       "      <td>10</td>\n",
       "      <td>26,690</td>\n",
       "    </tr>\n",
       "    <tr>\n",
       "      <th>6</th>\n",
       "      <td>Lenovo IdeaPad Slim 3 Intel Celeron N4020 14''...</td>\n",
       "      <td>222</td>\n",
       "      <td>28,249</td>\n",
       "    </tr>\n",
       "    <tr>\n",
       "      <th>7</th>\n",
       "      <td>Lenovo IdeaPad Slim 3 Chromebook Intel Celeron...</td>\n",
       "      <td>26</td>\n",
       "      <td>22,990</td>\n",
       "    </tr>\n",
       "    <tr>\n",
       "      <th>8</th>\n",
       "      <td>AVITA Essential Refresh NE14A2INC43A-MB 14-inc...</td>\n",
       "      <td>416</td>\n",
       "      <td>21,990</td>\n",
       "    </tr>\n",
       "    <tr>\n",
       "      <th>9</th>\n",
       "      <td>ASUS BR1100 Notebook 12 (2022), 11.6-inch HD, ...</td>\n",
       "      <td>4</td>\n",
       "      <td>29,490</td>\n",
       "    </tr>\n",
       "  </tbody>\n",
       "</table>\n",
       "</div>"
      ],
      "text/plain": [
       "                                         Laptop Name Rating   Price\n",
       "0  ASUS VivoBook 15 (2021), 15.6-inch (39.62 cm) ...  1,433  25,990\n",
       "1  Lenovo IdeaPad Slim 3 Intel Celeron N4020 15.6...     20  28,980\n",
       "2  Lenovo IdeaPad Slim 1 Intel Celeron N4020 11.6...    128  23,049\n",
       "3  AVITA SATUS ULTIMUS S111 NU14A1INC43PN-CS 14.1...     52  21,990\n",
       "4  Lenovo IdeaPad D330 Intel Celeron N4020 10.1\" ...     95  23,990\n",
       "5  Lenovo V15 Intel Celeron N4020 15.6 inches FHD...     10  26,690\n",
       "6  Lenovo IdeaPad Slim 3 Intel Celeron N4020 14''...    222  28,249\n",
       "7  Lenovo IdeaPad Slim 3 Chromebook Intel Celeron...     26  22,990\n",
       "8  AVITA Essential Refresh NE14A2INC43A-MB 14-inc...    416  21,990\n",
       "9  ASUS BR1100 Notebook 12 (2022), 11.6-inch HD, ...      4  29,490"
      ]
     },
     "execution_count": 52,
     "metadata": {},
     "output_type": "execute_result"
    }
   ],
   "source": [
    "laptop=pd.DataFrame({'Laptop Name':title[:10],'Rating':rating8[:10], 'Price':price_8[:10]})\n",
    "laptop[:10]"
   ]
  },
  {
   "cell_type": "code",
   "execution_count": 318,
   "id": "4274c652",
   "metadata": {},
   "outputs": [
    {
     "data": {
      "text/plain": [
       "[]"
      ]
     },
     "execution_count": 318,
     "metadata": {},
     "output_type": "execute_result"
    }
   ],
   "source": [
    "for i in i7:\n",
    "    icore=i.text\n",
    "    icore7_title.append(icore)\n",
    "    \n",
    "core_title=icore7_title[:10]\n",
    "core_title"
   ]
  },
  {
   "cell_type": "markdown",
   "id": "1cc2615b",
   "metadata": {},
   "source": [
    "## 9: Write a python program to scrape data for first 10 job results for Data Scientist Designation in Noida location. You have to scrape company name, No. of days ago when job was posted, Rating of the company."
   ]
  },
  {
   "cell_type": "code",
   "execution_count": 4,
   "id": "da48249d",
   "metadata": {},
   "outputs": [],
   "source": [
    "# importing all  the neccessary libs\n",
    "import pandas as pd \n",
    "import numpy as np\n",
    "from selenium import webdriver\n",
    "from selenium.webdriver.common.by import By\n",
    "import warnings\n",
    "warnings.filterwarnings('ignore')"
   ]
  },
  {
   "cell_type": "code",
   "execution_count": 5,
   "id": "de6fb91f",
   "metadata": {},
   "outputs": [],
   "source": [
    "#openig  the  autonation window\n",
    "driver9=webdriver.Chrome(\"chromedriver.exe\")"
   ]
  },
  {
   "cell_type": "code",
   "execution_count": 6,
   "id": "f8a65768",
   "metadata": {},
   "outputs": [],
   "source": [
    "#opening  the  webpage \n",
    "driver9.get('https://www.ambitionbox.com/')"
   ]
  },
  {
   "cell_type": "code",
   "execution_count": 25,
   "id": "c355c3b1",
   "metadata": {},
   "outputs": [],
   "source": [
    "jobs=driver9.find_element(\"xpath\",'/html/body/div[1]/nav/nav/a[6]').click()"
   ]
  },
  {
   "cell_type": "code",
   "execution_count": 26,
   "id": "dda36558",
   "metadata": {},
   "outputs": [],
   "source": [
    "\n",
    "search_jobs=driver9.find_element(\"xpath\",'//INPUT[@class=\"input tt-input\"]').send_keys(\"Data Scientist\")"
   ]
  },
  {
   "cell_type": "code",
   "execution_count": 27,
   "id": "6b9fc743",
   "metadata": {},
   "outputs": [],
   "source": [
    "search_button9= driver9.find_element(By.CLASS_NAME,\"ctas-btn-medium\").click()"
   ]
  },
  {
   "cell_type": "code",
   "execution_count": 28,
   "id": "748a583d",
   "metadata": {},
   "outputs": [],
   "source": [
    "#now  finding  the  locarion from the  drop down menu \n",
    "location=driver9.find_element(\"xpath\",'/html/body/div/div/div/div[2]/div[1]/div[2]/div[1]/div/div/div/div[2]/div[1]/p').click()\n"
   ]
  },
  {
   "cell_type": "code",
   "execution_count": 29,
   "id": "4490ef2b",
   "metadata": {},
   "outputs": [],
   "source": [
    "search_location=driver9.find_element(\"xpath\",'/html/body/div/div/div/div[2]/div[1]/div[2]/div[1]/div/div/div/div[2]/div[2]/div/div[2]/input').send_keys(\"Noida\")\n"
   ]
  },
  {
   "cell_type": "code",
   "execution_count": 30,
   "id": "5ce9edd3",
   "metadata": {},
   "outputs": [],
   "source": [
    "job_location=driver9.find_element(\"xpath\",'/html/body/div/div/div/div[2]/div[1]/div[2]/div[1]/div/div/div/div[2]/div[2]/div/div[3]/div[1]/div[1]/div/label').click()\n"
   ]
  },
  {
   "cell_type": "code",
   "execution_count": 31,
   "id": "4b4b088f",
   "metadata": {},
   "outputs": [],
   "source": [
    "job_tags=driver9.find_elements(\"xpath\",'//a[@class=\"title noclick\"]')\n",
    "jobs_title=[]\n",
    "for i in job_tags:\n",
    "    jobs_title.append(i.text)\n",
    "    \n",
    "job_comp1=driver9.find_elements(\"xpath\",'//p[@class=\"company body-medium\"]')\n",
    "jobs_comp=[]\n",
    "for i in job_comp1:\n",
    "    jobs_comp.append(i.text)\n",
    "    \n",
    "Job_post=driver9.find_elements(\"xpath\",\" //div[@class='other-info']/span[1]\" )\n",
    "job_posted=[]\n",
    "for i in Job_post:\n",
    "    job_posted.append(i.text)\n",
    "    \n",
    "comp_rat1=driver9.find_elements(By.CLASS_NAME,\"body-small\")\n",
    "comp_ratg=[]\n",
    "for i in comp_rat1:\n",
    "    comp_ratg.append(i.text)"
   ]
  },
  {
   "cell_type": "code",
   "execution_count": 32,
   "id": "d2113a86",
   "metadata": {},
   "outputs": [
    {
     "data": {
      "text/html": [
       "<div>\n",
       "<style scoped>\n",
       "    .dataframe tbody tr th:only-of-type {\n",
       "        vertical-align: middle;\n",
       "    }\n",
       "\n",
       "    .dataframe tbody tr th {\n",
       "        vertical-align: top;\n",
       "    }\n",
       "\n",
       "    .dataframe thead th {\n",
       "        text-align: right;\n",
       "    }\n",
       "</style>\n",
       "<table border=\"1\" class=\"dataframe\">\n",
       "  <thead>\n",
       "    <tr style=\"text-align: right;\">\n",
       "      <th></th>\n",
       "      <th>Company Name</th>\n",
       "      <th>Job Posted</th>\n",
       "      <th>Rating</th>\n",
       "    </tr>\n",
       "  </thead>\n",
       "  <tbody>\n",
       "    <tr>\n",
       "      <th>0</th>\n",
       "      <td>Optum Global Solutions (India) Private Limited</td>\n",
       "      <td>11d ago</td>\n",
       "      <td>4.1</td>\n",
       "    </tr>\n",
       "    <tr>\n",
       "      <th>1</th>\n",
       "      <td>GENPACT India Private Limited</td>\n",
       "      <td>18d ago</td>\n",
       "      <td>4.0</td>\n",
       "    </tr>\n",
       "    <tr>\n",
       "      <th>2</th>\n",
       "      <td>Latent bridge</td>\n",
       "      <td>2d ago</td>\n",
       "      <td>4.5</td>\n",
       "    </tr>\n",
       "    <tr>\n",
       "      <th>3</th>\n",
       "      <td>Dew Solutions Pvt. Ltd.</td>\n",
       "      <td>9d ago</td>\n",
       "      <td>4.3</td>\n",
       "    </tr>\n",
       "    <tr>\n",
       "      <th>4</th>\n",
       "      <td>InfoEdge India Ltd.</td>\n",
       "      <td>16d ago</td>\n",
       "      <td>3.9</td>\n",
       "    </tr>\n",
       "    <tr>\n",
       "      <th>5</th>\n",
       "      <td>Info Edge India Limited</td>\n",
       "      <td>17d ago</td>\n",
       "      <td>3.9</td>\n",
       "    </tr>\n",
       "    <tr>\n",
       "      <th>6</th>\n",
       "      <td>Info Edge India Limited</td>\n",
       "      <td>17d ago</td>\n",
       "      <td>3.9</td>\n",
       "    </tr>\n",
       "    <tr>\n",
       "      <th>7</th>\n",
       "      <td>Careerera</td>\n",
       "      <td>4d ago</td>\n",
       "      <td>3.8</td>\n",
       "    </tr>\n",
       "    <tr>\n",
       "      <th>8</th>\n",
       "      <td>CRMnext</td>\n",
       "      <td>12d ago</td>\n",
       "      <td>4.1</td>\n",
       "    </tr>\n",
       "    <tr>\n",
       "      <th>9</th>\n",
       "      <td>Careernet Consulting</td>\n",
       "      <td>1mon ago</td>\n",
       "      <td>3.9</td>\n",
       "    </tr>\n",
       "  </tbody>\n",
       "</table>\n",
       "</div>"
      ],
      "text/plain": [
       "                                     Company Name Job Posted Rating\n",
       "0  Optum Global Solutions (India) Private Limited    11d ago    4.1\n",
       "1                   GENPACT India Private Limited    18d ago    4.0\n",
       "2                                   Latent bridge     2d ago    4.5\n",
       "3                         Dew Solutions Pvt. Ltd.     9d ago    4.3\n",
       "4                             InfoEdge India Ltd.    16d ago    3.9\n",
       "5                         Info Edge India Limited    17d ago    3.9\n",
       "6                         Info Edge India Limited    17d ago    3.9\n",
       "7                                       Careerera     4d ago    3.8\n",
       "8                                         CRMnext    12d ago    4.1\n",
       "9                            Careernet Consulting   1mon ago    3.9"
      ]
     },
     "execution_count": 32,
     "metadata": {},
     "output_type": "execute_result"
    }
   ],
   "source": [
    "Ambition=pd.DataFrame({'Company Name':jobs_comp,'Job Posted':job_posted,'Rating':comp_ratg})\n",
    "Ambition[:10] "
   ]
  },
  {
   "cell_type": "markdown",
   "id": "69d5ecec",
   "metadata": {},
   "source": [
    "## Q.10.Answer: A python program to scrape the salary data for Data Scientist designation with Company name, Number of salaries, Average salary, Minsalary, Max Salary"
   ]
  },
  {
   "cell_type": "code",
   "execution_count": 33,
   "id": "40a507b7",
   "metadata": {},
   "outputs": [],
   "source": [
    "driver10=webdriver.Chrome('chromedriver.exe')\n",
    "driver10.get('https://www.ambitionbox.com/')"
   ]
  },
  {
   "cell_type": "code",
   "execution_count": 35,
   "id": "a300799b",
   "metadata": {},
   "outputs": [],
   "source": [
    "salaries=driver10.find_element(\"xpath\",'/html/body/div[1]/nav/nav/a[4]').click()"
   ]
  },
  {
   "cell_type": "code",
   "execution_count": 37,
   "id": "7d472dd0",
   "metadata": {},
   "outputs": [],
   "source": [
    "search_job2=driver10.find_element(\"xpath\",\"//input[@class='tt-input']\").send_keys(\"Data Scientist\")"
   ]
  },
  {
   "cell_type": "code",
   "execution_count": 41,
   "id": "f32df99c",
   "metadata": {},
   "outputs": [],
   "source": [
    "search_button10 = driver10.find_element(By.CLASS_NAME,'tt_text')\n"
   ]
  },
  {
   "cell_type": "code",
   "execution_count": 42,
   "id": "26484c1d",
   "metadata": {},
   "outputs": [],
   "source": [
    "company_tag = driver10.find_elements(\"xpath\",\"//div[@class='company-info']/a\")\n",
    "Company_name = []\n",
    "for i in company_tag : \n",
    "    Company_name.append(i.text.split('\\n')[0])\n",
    "    \n",
    "exp_tag = driver10.find_elements(\"xpath\",\"//div[@class='sbold-list-header']\")\n",
    "Experience = []\n",
    "for i in exp_tag : \n",
    "    Experience.append(i.text.split()[0]+\" \"+i.text.split()[1])   \n",
    "\n",
    "salary_records = driver10.find_elements(\"xpath\",\"//span[@class='datapoints']\")\n",
    "Total_Salary_Records = []\n",
    "for i in salary_records: \n",
    "    Total_Salary_Records.append(i.text)\n",
    "\n",
    "    \n",
    "avg_salary = driver10.find_elements(\"xpath\",\"//p[@class='averageCtc']\")\n",
    "Average_Salary = []\n",
    "for i in avg_salary : \n",
    "    Average_Salary.append(i.text)\n",
    "    \n",
    "min_salary = driver10.find_elements(\"xpath\",\"//div[@class='salary-values']\")\n",
    "Minimum_Salary = []\n",
    "for i in min_salary : \n",
    "    Minimum_Salary.append(i.text.split(\"\\n\")[0])   \n",
    "    \n",
    "max_salary = driver10.find_elements(\"xpath\",\"//div[@class='salary-values']\")\n",
    "Maximum_Salary = []\n",
    "for i in max_salary : \n",
    "    Maximum_Salary.append(i.text.split(\"\\n\")[1])   "
   ]
  },
  {
   "cell_type": "code",
   "execution_count": 43,
   "id": "1462aa2a",
   "metadata": {},
   "outputs": [
    {
     "data": {
      "text/html": [
       "<div>\n",
       "<style scoped>\n",
       "    .dataframe tbody tr th:only-of-type {\n",
       "        vertical-align: middle;\n",
       "    }\n",
       "\n",
       "    .dataframe tbody tr th {\n",
       "        vertical-align: top;\n",
       "    }\n",
       "\n",
       "    .dataframe thead th {\n",
       "        text-align: right;\n",
       "    }\n",
       "</style>\n",
       "<table border=\"1\" class=\"dataframe\">\n",
       "  <thead>\n",
       "    <tr style=\"text-align: right;\">\n",
       "      <th></th>\n",
       "      <th>Company Name</th>\n",
       "      <th>Experience</th>\n",
       "      <th>Total Salary Record</th>\n",
       "      <th>Average Salary</th>\n",
       "      <th>Minimum Salary</th>\n",
       "      <th>Maximum Salary</th>\n",
       "    </tr>\n",
       "  </thead>\n",
       "  <tbody>\n",
       "    <tr>\n",
       "      <th>0</th>\n",
       "      <td>Google</td>\n",
       "      <td>1-3 yrs</td>\n",
       "      <td>(based on 35 salaries)</td>\n",
       "      <td>₹ 31.3L</td>\n",
       "      <td>₹ 11.0L</td>\n",
       "      <td>₹ 65.0L</td>\n",
       "    </tr>\n",
       "    <tr>\n",
       "      <th>1</th>\n",
       "      <td>Microsoft Corporation</td>\n",
       "      <td>1-4 yrs</td>\n",
       "      <td>(based on 274 salaries)</td>\n",
       "      <td>₹ 24.0L</td>\n",
       "      <td>₹ 13.0L</td>\n",
       "      <td>₹ 50.0L</td>\n",
       "    </tr>\n",
       "    <tr>\n",
       "      <th>2</th>\n",
       "      <td>Goldman Sachs</td>\n",
       "      <td>2 yrs</td>\n",
       "      <td>(based on 18 salaries)</td>\n",
       "      <td>₹ 23.0L</td>\n",
       "      <td>₹ 12.0L</td>\n",
       "      <td>₹ 34.0L</td>\n",
       "    </tr>\n",
       "    <tr>\n",
       "      <th>3</th>\n",
       "      <td>Tekion</td>\n",
       "      <td>2-4 yrs</td>\n",
       "      <td>(based on 35 salaries)</td>\n",
       "      <td>₹ 21.2L</td>\n",
       "      <td>₹ 12.0L</td>\n",
       "      <td>₹ 33.0L</td>\n",
       "    </tr>\n",
       "    <tr>\n",
       "      <th>4</th>\n",
       "      <td>Amazon</td>\n",
       "      <td>1-4 yrs</td>\n",
       "      <td>(based on 122 salaries)</td>\n",
       "      <td>₹ 21.0L</td>\n",
       "      <td>₹ 8.0L</td>\n",
       "      <td>₹ 45.0L</td>\n",
       "    </tr>\n",
       "    <tr>\n",
       "      <th>5</th>\n",
       "      <td>Servicenow Software Development India</td>\n",
       "      <td>2-4 yrs</td>\n",
       "      <td>(based on 60 salaries)</td>\n",
       "      <td>₹ 20.5L</td>\n",
       "      <td>₹ 13.0L</td>\n",
       "      <td>₹ 28.0L</td>\n",
       "    </tr>\n",
       "    <tr>\n",
       "      <th>6</th>\n",
       "      <td>Flipkart</td>\n",
       "      <td>1-4 yrs</td>\n",
       "      <td>(based on 64 salaries)</td>\n",
       "      <td>₹ 20.4L</td>\n",
       "      <td>₹ 7.5L</td>\n",
       "      <td>₹ 31.0L</td>\n",
       "    </tr>\n",
       "    <tr>\n",
       "      <th>7</th>\n",
       "      <td>Walmart</td>\n",
       "      <td>1-4 yrs</td>\n",
       "      <td>(based on 87 salaries)</td>\n",
       "      <td>₹ 20.0L</td>\n",
       "      <td>₹ 11.4L</td>\n",
       "      <td>₹ 32.5L</td>\n",
       "    </tr>\n",
       "    <tr>\n",
       "      <th>8</th>\n",
       "      <td>PayPal</td>\n",
       "      <td>1-2 yrs</td>\n",
       "      <td>(based on 29 salaries)</td>\n",
       "      <td>₹ 19.9L</td>\n",
       "      <td>₹ 11.0L</td>\n",
       "      <td>₹ 31.0L</td>\n",
       "    </tr>\n",
       "    <tr>\n",
       "      <th>9</th>\n",
       "      <td>Myntra</td>\n",
       "      <td>1 yr</td>\n",
       "      <td>(based on 10 salaries)</td>\n",
       "      <td>₹ 19.5L</td>\n",
       "      <td>₹ 14.0L</td>\n",
       "      <td>₹ 27.0L</td>\n",
       "    </tr>\n",
       "  </tbody>\n",
       "</table>\n",
       "</div>"
      ],
      "text/plain": [
       "                            Company Name Experience      Total Salary Record  \\\n",
       "0                                 Google    1-3 yrs   (based on 35 salaries)   \n",
       "1                  Microsoft Corporation    1-4 yrs  (based on 274 salaries)   \n",
       "2                          Goldman Sachs      2 yrs   (based on 18 salaries)   \n",
       "3                                 Tekion    2-4 yrs   (based on 35 salaries)   \n",
       "4                                 Amazon    1-4 yrs  (based on 122 salaries)   \n",
       "5  Servicenow Software Development India    2-4 yrs   (based on 60 salaries)   \n",
       "6                               Flipkart    1-4 yrs   (based on 64 salaries)   \n",
       "7                                Walmart    1-4 yrs   (based on 87 salaries)   \n",
       "8                                 PayPal    1-2 yrs   (based on 29 salaries)   \n",
       "9                                 Myntra       1 yr   (based on 10 salaries)   \n",
       "\n",
       "  Average Salary Minimum Salary Maximum Salary  \n",
       "0        ₹ 31.3L        ₹ 11.0L        ₹ 65.0L  \n",
       "1        ₹ 24.0L        ₹ 13.0L        ₹ 50.0L  \n",
       "2        ₹ 23.0L        ₹ 12.0L        ₹ 34.0L  \n",
       "3        ₹ 21.2L        ₹ 12.0L        ₹ 33.0L  \n",
       "4        ₹ 21.0L         ₹ 8.0L        ₹ 45.0L  \n",
       "5        ₹ 20.5L        ₹ 13.0L        ₹ 28.0L  \n",
       "6        ₹ 20.4L         ₹ 7.5L        ₹ 31.0L  \n",
       "7        ₹ 20.0L        ₹ 11.4L        ₹ 32.5L  \n",
       "8        ₹ 19.9L        ₹ 11.0L        ₹ 31.0L  \n",
       "9        ₹ 19.5L        ₹ 14.0L        ₹ 27.0L  "
      ]
     },
     "execution_count": 43,
     "metadata": {},
     "output_type": "execute_result"
    }
   ],
   "source": [
    "data_ambition=pd.DataFrame({'Company Name':Company_name, 'Experience': Experience,'Total Salary Record':Total_Salary_Records, 'Average Salary': Average_Salary, 'Minimum Salary':Minimum_Salary, 'Maximum Salary':Maximum_Salary})\n",
    "data_ambition[:10]"
   ]
  },
  {
   "cell_type": "code",
   "execution_count": null,
   "id": "ab99297d",
   "metadata": {},
   "outputs": [],
   "source": []
  }
 ],
 "metadata": {
  "kernelspec": {
   "display_name": "Python 3 (ipykernel)",
   "language": "python",
   "name": "python3"
  },
  "language_info": {
   "codemirror_mode": {
    "name": "ipython",
    "version": 3
   },
   "file_extension": ".py",
   "mimetype": "text/x-python",
   "name": "python",
   "nbconvert_exporter": "python",
   "pygments_lexer": "ipython3",
   "version": "3.9.7"
  }
 },
 "nbformat": 4,
 "nbformat_minor": 5
}
